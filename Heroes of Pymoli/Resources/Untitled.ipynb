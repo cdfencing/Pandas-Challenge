{
 "cells": [
  {
   "cell_type": "code",
   "execution_count": null,
   "metadata": {},
   "outputs": [],
   "source": [
    "# Create a GroupBy object based upon \"group\" and count number in each age group\n",
    "age_purchase_count = pymoli_df.groupby([\"Age Group\"]).count()[\"Age\"].rename(\"Purchase Count\")\n",
    "age_avg_price = pymoli_df.groupby([\"Age Group\"]).mean()[\"Price\"].rename(\"Average Purchase Price\")\n",
    "age_total_purchase = pymoli_df.groupby([\"Age Group\"]).sum()[\"Price\"].rename(\"Total Purchase Value\")\n",
    "\n",
    "\n",
    "age_purchase_count"
   ]
  },
  {
   "cell_type": "code",
   "execution_count": null,
   "metadata": {},
   "outputs": [],
   "source": [
    "#Calculate Age Analysis:\n",
    "purchase_count_under_ten = 32\n",
    "purchase_count_age10to14 = 54\n",
    "purchase_count_age15to19 = 200\n",
    "purchase_count_age20to24 = 325\n",
    "purchase_count_age25to29 = 77\n",
    "purchase_count_age30to34 = 52\n",
    "purchase_count_age35to39 = 33\n",
    "purchase_count_age40_older = 7\n",
    "\n",
    "\n",
    "avg_price_under_ten = age_avg_price[\"<10\"]\n",
    "avg_price_age10to14 = age_avg_price[\"10-14\"]\n",
    "avg_price_age15to19 = age_avg_price[\"15-19\"]\n",
    "avg_price_age20to24 = age_avg_price[\"20-24\"]\n",
    "avg_price_age25to29 = age_avg_price[\"25-29\"]\n",
    "avg_price_age30to34 = age_avg_price[\"30-34\"]\n",
    "avg_price_age35to39 = age_avg_price[\"35-39\"]\n",
    "avg_price_age40_older = age_avg_price[\"40+\"]\n",
    "\n",
    "age_total_purchase_under_ten = age_total_purchase[\"<10\"]\n",
    "age_total_purchase_age10to14 = age_total_purchase[\"10-14\"]\n",
    "age_total_purchase_age15to19 = age_total_purchase[\"15-19\"]\n",
    "age_total_purchase_age20to24 = age_total_purchase[\"20-24\"]\n",
    "age_total_purchase_age25to29 = age_total_purchase[\"25-29\"]\n",
    "age_total_purchase_age30to34 = age_total_purchase[\"30-34\"]\n",
    "age_total_purchase_age35to39 = age_total_purchase[\"35-39\"]\n",
    "age_total_purchase_age40_older = age_total_purchase[\"40+\"]\n",
    "\n",
    "avg_total_under_ten = age_total_purchase_under_ten / purchase_count_under_ten\n",
    "avg_total_age10to14 = age_total_purchase_age10to14 / purchase_count_age10to14\n",
    "avg_total_age15to19 = age_total_purchase_age15to19 / purchase_count_age15to19\n",
    "avg_total_age20to24 = age_total_purchase_age20to24 / purchase_count_age20to24\n",
    "avg_total_age25to29 = age_total_purchase_age25to29 / purchase_count_age25to29\n",
    "avg_total_age30to34 = age_total_purchase_age30to34 / purchase_count_age30to34\n",
    "avg_total_age35to39 = age_total_purchase_age35to39 / purchase_count_age35to39\n",
    "avg_total_age40_older = age_total_purchase_age40_older / purchase_count_age40_older\n",
    "\n",
    "#create age demographic data frame\n",
    "age_demographics = pd.DataFrame(columns = [\"Purchase Count\", \"Percentage of Players\"], \n",
    "                             index = [\"<10\", \"10-14\", \"15-19\", \"20-24\", \"25-29\", \"30-34\",\n",
    "                \"35-39\", \"40+\"])\n",
    "\n",
    "age_demographics.loc[\"<10\"] = [purchase_count_under_ten, percent_under_ten]\n",
    "age_demographics.loc[\"10-14\"] = [purchase_count_age10to14, percent_10to14]\n",
    "age_demographics.loc[\"15-19\"] = [purchase_count_age15to19, percent_15to19]\n",
    "age_demographics.loc[\"20-24\"] = [purchase_count_age20to24, percent_20to24]\n",
    "age_demographics.loc[\"25-29\"] = [purchase_count_age25to29, age25to29_total]\n",
    "age_demographics.loc[\"30-34\"] = [purchase_count_age30to34, percent_30to34]\n",
    "age_demographics.loc[\"35-39\"] = [purchase_count_age35to39, percent_35to39]\n",
    "age_demographics.loc[\"40+\"] = [purchase_count_age40_older, percent_40_older]\n",
    "\n",
    "#format and map\n",
    "#age_demographics[\"Percentage of Players\"] = age_demographics[\"Percentage of Players\"].map('{:,.2f}%'.format)\n",
    "\n",
    "age_demographics\n"
   ]
  },
  {
   "cell_type": "code",
   "execution_count": null,
   "metadata": {},
   "outputs": [],
   "source": [
    "#Purchasing Analysis by Age:\n",
    "\n",
    "# Create bins for ages\n",
    "bins = [0, 10, 15, 20, 25, 30, 35, 40, 125]\n",
    "\n",
    "# Create labels for these bins\n",
    "group_labels = [\"<10\", \"10-14\", \"15-19\", \"20-24\", \"25-29\", \"30-34\",\n",
    "                \"35-39\", \"40+\"]\n",
    "    \n",
    "    \n",
    "# Slice the data and place it into bins\n",
    "pd.cut(pymoli_df[\"Age\"], bins, labels=group_labels).head()"
   ]
  },
  {
   "cell_type": "code",
   "execution_count": null,
   "metadata": {},
   "outputs": [],
   "source": [
    "pymoli_df[\"Age Group\"] = pd.cut(pymoli_df[\"Age\"], bins, labels=group_labels)\n",
    "pymoli_df.head().style.hide_index()"
   ]
  },
  {
   "cell_type": "code",
   "execution_count": null,
   "metadata": {},
   "outputs": [],
   "source": [
    "#groupby and perform calculations for age groups\n",
    "age_purchase_total = pymoli_df.groupby([\"Age Group\"]).sum()[\"Price\"].rename(\"Total Purchase Value\")\n",
    "\n",
    "age_avg_price = pymoli_df.groupby([\"Age Group\"]).mean()[\"Price\"].rename(\"Average Purchase Price\")"
   ]
  }
 ],
 "metadata": {
  "kernelspec": {
   "display_name": "Python 3",
   "language": "python",
   "name": "python3"
  },
  "language_info": {
   "codemirror_mode": {
    "name": "ipython",
    "version": 3
   },
   "file_extension": ".py",
   "mimetype": "text/x-python",
   "name": "python",
   "nbconvert_exporter": "python",
   "pygments_lexer": "ipython3",
   "version": "3.7.6"
  }
 },
 "nbformat": 4,
 "nbformat_minor": 4
}
