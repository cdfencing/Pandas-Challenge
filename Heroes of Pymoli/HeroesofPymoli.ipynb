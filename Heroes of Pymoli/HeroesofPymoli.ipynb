{
 "cells": [
  {
   "cell_type": "code",
   "execution_count": 22,
   "metadata": {},
   "outputs": [
    {
     "data": {
      "text/html": [
       "<style  type=\"text/css\" >\n",
       "</style><table id=\"T_b053a2c2_b887_11ea_a33d_70bc106b664f\" ><thead>    <tr>        <th class=\"col_heading level0 col0\" >Purchase ID</th>        <th class=\"col_heading level0 col1\" >SN</th>        <th class=\"col_heading level0 col2\" >Age</th>        <th class=\"col_heading level0 col3\" >Gender</th>        <th class=\"col_heading level0 col4\" >Item ID</th>        <th class=\"col_heading level0 col5\" >Item Name</th>        <th class=\"col_heading level0 col6\" >Price</th>    </tr></thead><tbody>\n",
       "                <tr>\n",
       "                                <td id=\"T_b053a2c2_b887_11ea_a33d_70bc106b664frow0_col0\" class=\"data row0 col0\" >0</td>\n",
       "                        <td id=\"T_b053a2c2_b887_11ea_a33d_70bc106b664frow0_col1\" class=\"data row0 col1\" >Lisim78</td>\n",
       "                        <td id=\"T_b053a2c2_b887_11ea_a33d_70bc106b664frow0_col2\" class=\"data row0 col2\" >20</td>\n",
       "                        <td id=\"T_b053a2c2_b887_11ea_a33d_70bc106b664frow0_col3\" class=\"data row0 col3\" >Male</td>\n",
       "                        <td id=\"T_b053a2c2_b887_11ea_a33d_70bc106b664frow0_col4\" class=\"data row0 col4\" >108</td>\n",
       "                        <td id=\"T_b053a2c2_b887_11ea_a33d_70bc106b664frow0_col5\" class=\"data row0 col5\" >Extraction, Quickblade Of Trembling Hands</td>\n",
       "                        <td id=\"T_b053a2c2_b887_11ea_a33d_70bc106b664frow0_col6\" class=\"data row0 col6\" >3.530000</td>\n",
       "            </tr>\n",
       "            <tr>\n",
       "                                <td id=\"T_b053a2c2_b887_11ea_a33d_70bc106b664frow1_col0\" class=\"data row1 col0\" >1</td>\n",
       "                        <td id=\"T_b053a2c2_b887_11ea_a33d_70bc106b664frow1_col1\" class=\"data row1 col1\" >Lisovynya38</td>\n",
       "                        <td id=\"T_b053a2c2_b887_11ea_a33d_70bc106b664frow1_col2\" class=\"data row1 col2\" >40</td>\n",
       "                        <td id=\"T_b053a2c2_b887_11ea_a33d_70bc106b664frow1_col3\" class=\"data row1 col3\" >Male</td>\n",
       "                        <td id=\"T_b053a2c2_b887_11ea_a33d_70bc106b664frow1_col4\" class=\"data row1 col4\" >143</td>\n",
       "                        <td id=\"T_b053a2c2_b887_11ea_a33d_70bc106b664frow1_col5\" class=\"data row1 col5\" >Frenzied Scimitar</td>\n",
       "                        <td id=\"T_b053a2c2_b887_11ea_a33d_70bc106b664frow1_col6\" class=\"data row1 col6\" >1.560000</td>\n",
       "            </tr>\n",
       "            <tr>\n",
       "                                <td id=\"T_b053a2c2_b887_11ea_a33d_70bc106b664frow2_col0\" class=\"data row2 col0\" >2</td>\n",
       "                        <td id=\"T_b053a2c2_b887_11ea_a33d_70bc106b664frow2_col1\" class=\"data row2 col1\" >Ithergue48</td>\n",
       "                        <td id=\"T_b053a2c2_b887_11ea_a33d_70bc106b664frow2_col2\" class=\"data row2 col2\" >24</td>\n",
       "                        <td id=\"T_b053a2c2_b887_11ea_a33d_70bc106b664frow2_col3\" class=\"data row2 col3\" >Male</td>\n",
       "                        <td id=\"T_b053a2c2_b887_11ea_a33d_70bc106b664frow2_col4\" class=\"data row2 col4\" >92</td>\n",
       "                        <td id=\"T_b053a2c2_b887_11ea_a33d_70bc106b664frow2_col5\" class=\"data row2 col5\" >Final Critic</td>\n",
       "                        <td id=\"T_b053a2c2_b887_11ea_a33d_70bc106b664frow2_col6\" class=\"data row2 col6\" >4.880000</td>\n",
       "            </tr>\n",
       "            <tr>\n",
       "                                <td id=\"T_b053a2c2_b887_11ea_a33d_70bc106b664frow3_col0\" class=\"data row3 col0\" >3</td>\n",
       "                        <td id=\"T_b053a2c2_b887_11ea_a33d_70bc106b664frow3_col1\" class=\"data row3 col1\" >Chamassasya86</td>\n",
       "                        <td id=\"T_b053a2c2_b887_11ea_a33d_70bc106b664frow3_col2\" class=\"data row3 col2\" >24</td>\n",
       "                        <td id=\"T_b053a2c2_b887_11ea_a33d_70bc106b664frow3_col3\" class=\"data row3 col3\" >Male</td>\n",
       "                        <td id=\"T_b053a2c2_b887_11ea_a33d_70bc106b664frow3_col4\" class=\"data row3 col4\" >100</td>\n",
       "                        <td id=\"T_b053a2c2_b887_11ea_a33d_70bc106b664frow3_col5\" class=\"data row3 col5\" >Blindscythe</td>\n",
       "                        <td id=\"T_b053a2c2_b887_11ea_a33d_70bc106b664frow3_col6\" class=\"data row3 col6\" >3.270000</td>\n",
       "            </tr>\n",
       "            <tr>\n",
       "                                <td id=\"T_b053a2c2_b887_11ea_a33d_70bc106b664frow4_col0\" class=\"data row4 col0\" >4</td>\n",
       "                        <td id=\"T_b053a2c2_b887_11ea_a33d_70bc106b664frow4_col1\" class=\"data row4 col1\" >Iskosia90</td>\n",
       "                        <td id=\"T_b053a2c2_b887_11ea_a33d_70bc106b664frow4_col2\" class=\"data row4 col2\" >23</td>\n",
       "                        <td id=\"T_b053a2c2_b887_11ea_a33d_70bc106b664frow4_col3\" class=\"data row4 col3\" >Male</td>\n",
       "                        <td id=\"T_b053a2c2_b887_11ea_a33d_70bc106b664frow4_col4\" class=\"data row4 col4\" >131</td>\n",
       "                        <td id=\"T_b053a2c2_b887_11ea_a33d_70bc106b664frow4_col5\" class=\"data row4 col5\" >Fury</td>\n",
       "                        <td id=\"T_b053a2c2_b887_11ea_a33d_70bc106b664frow4_col6\" class=\"data row4 col6\" >1.440000</td>\n",
       "            </tr>\n",
       "    </tbody></table>"
      ],
      "text/plain": [
       "<pandas.io.formats.style.Styler at 0x2f0c9e87608>"
      ]
     },
     "execution_count": 22,
     "metadata": {},
     "output_type": "execute_result"
    }
   ],
   "source": [
    "import pandas as pd\n",
    "\n",
    "# load the file\n",
    "pymoli = \"Resources/purchase_data.csv\"\n",
    "\n",
    "# Read Purchasing File and store into Pandas data frame\n",
    "pymoli_df = pd.read_csv(pymoli).dropna()\n",
    "pymoli_df.head().style.hide_index()"
   ]
  },
  {
   "cell_type": "code",
   "execution_count": 23,
   "metadata": {},
   "outputs": [
    {
     "data": {
      "text/html": [
       "<style  type=\"text/css\" >\n",
       "</style><table id=\"T_b079fdb6_b887_11ea_9d43_70bc106b664f\" ><thead>    <tr>        <th class=\"col_heading level0 col0\" >Total Players</th>    </tr></thead><tbody>\n",
       "                <tr>\n",
       "                                <td id=\"T_b079fdb6_b887_11ea_9d43_70bc106b664frow0_col0\" class=\"data row0 col0\" >576</td>\n",
       "            </tr>\n",
       "    </tbody></table>"
      ],
      "text/plain": [
       "<pandas.io.formats.style.Styler at 0x2f0c9dd5888>"
      ]
     },
     "execution_count": 23,
     "metadata": {},
     "output_type": "execute_result"
    }
   ],
   "source": [
    "# Create player demographics dataframe for later use\n",
    "demographics = pymoli_df[[\"Gender\", \"SN\", \"Age\"]].drop_duplicates()\n",
    "\n",
    "# Create player_count variable for later use\n",
    "player_count = pymoli_df[\"SN\"].nunique()\n",
    "\n",
    "total_players_df = pd.DataFrame({\"Total Players\": [player_count]}).style.hide_index()\n",
    "total_players_df"
   ]
  },
  {
   "cell_type": "code",
   "execution_count": 56,
   "metadata": {},
   "outputs": [
    {
     "data": {
      "text/plain": [
       "Purchase ID    780\n",
       "SN             576\n",
       "Age             39\n",
       "Gender           3\n",
       "Item ID        179\n",
       "Item Name      179\n",
       "Price          145\n",
       "dtype: int64"
      ]
     },
     "execution_count": 56,
     "metadata": {},
     "output_type": "execute_result"
    }
   ],
   "source": [
    "#unique values core each category\n",
    "#note there are 780 purchase IDs but only 576 unique screen names(i.e. unique people that bought items)\n",
    "pymoli_df.nunique()\n"
   ]
  },
  {
   "cell_type": "code",
   "execution_count": 53,
   "metadata": {},
   "outputs": [
    {
     "data": {
      "text/html": [
       "<div>\n",
       "<style scoped>\n",
       "    .dataframe tbody tr th:only-of-type {\n",
       "        vertical-align: middle;\n",
       "    }\n",
       "\n",
       "    .dataframe tbody tr th {\n",
       "        vertical-align: top;\n",
       "    }\n",
       "\n",
       "    .dataframe thead th {\n",
       "        text-align: right;\n",
       "    }\n",
       "</style>\n",
       "<table border=\"1\" class=\"dataframe\">\n",
       "  <thead>\n",
       "    <tr style=\"text-align: right;\">\n",
       "      <th></th>\n",
       "      <th>Number of Unique Items</th>\n",
       "      <th>Average Price</th>\n",
       "      <th>Number of Purchases</th>\n",
       "      <th>Total Revenue</th>\n",
       "    </tr>\n",
       "  </thead>\n",
       "  <tbody>\n",
       "    <tr>\n",
       "      <th>0</th>\n",
       "      <td>179</td>\n",
       "      <td>$3.05</td>\n",
       "      <td>780</td>\n",
       "      <td>$2,379.77</td>\n",
       "    </tr>\n",
       "  </tbody>\n",
       "</table>\n",
       "</div>"
      ],
      "text/plain": [
       "   Number of Unique Items Average Price  Number of Purchases Total Revenue\n",
       "0                     179         $3.05                  780     $2,379.77"
      ]
     },
     "execution_count": 53,
     "metadata": {},
     "output_type": "execute_result"
    }
   ],
   "source": [
    "#Purchasing Analysis (Total)\n",
    "unique_items = pymoli_df[\"Item ID\"].nunique()\n",
    "average_price = pymoli_df[\"Price\"].mean()\n",
    "number_purchases = pymoli_df[\"Purchase ID\"].nunique()\n",
    "total_revenue = pymoli_df[\"Price\"].sum()\n",
    "\n",
    "\n",
    "Values = pd.DataFrame({\"Number of Unique Items\": [unique_items], \n",
    "                       \"Average Price\": [average_price], \n",
    "                       \"Number of Purchases\": [number_purchases], \n",
    "                       \"Total Revenue\": [total_revenue]})\n",
    "\n",
    "Values[\"Average Price\"] = Values[\"Average Price\"].map('${:,.2f}'.format)\n",
    "Values[\"Total Revenue\"] = Values[\"Total Revenue\"].map('${:,.2f}'.format)\n",
    "\n",
    "Values"
   ]
  },
  {
   "cell_type": "code",
   "execution_count": 50,
   "metadata": {},
   "outputs": [
    {
     "data": {
      "text/plain": [
       "Male                     484\n",
       "Female                    81\n",
       "Other / Non-Disclosed     11\n",
       "Name: Gender, dtype: int64"
      ]
     },
     "execution_count": 50,
     "metadata": {},
     "output_type": "execute_result"
    }
   ],
   "source": [
    "#Gender data frame, gives you purchase count by gender\n",
    "#this data frame has no duplicates \n",
    "gender = demographics[\"Gender\"].value_counts()\n",
    "gender"
   ]
  },
  {
   "cell_type": "code",
   "execution_count": 58,
   "metadata": {},
   "outputs": [
    {
     "data": {
      "text/html": [
       "<div>\n",
       "<style scoped>\n",
       "    .dataframe tbody tr th:only-of-type {\n",
       "        vertical-align: middle;\n",
       "    }\n",
       "\n",
       "    .dataframe tbody tr th {\n",
       "        vertical-align: top;\n",
       "    }\n",
       "\n",
       "    .dataframe thead th {\n",
       "        text-align: right;\n",
       "    }\n",
       "</style>\n",
       "<table border=\"1\" class=\"dataframe\">\n",
       "  <thead>\n",
       "    <tr style=\"text-align: right;\">\n",
       "      <th></th>\n",
       "      <th>Total Players</th>\n",
       "      <th>Percentage of Players</th>\n",
       "    </tr>\n",
       "  </thead>\n",
       "  <tbody>\n",
       "    <tr>\n",
       "      <th>Male</th>\n",
       "      <td>484</td>\n",
       "      <td>84.03%</td>\n",
       "    </tr>\n",
       "    <tr>\n",
       "      <th>Female</th>\n",
       "      <td>81</td>\n",
       "      <td>14.06%</td>\n",
       "    </tr>\n",
       "    <tr>\n",
       "      <th>Other / Non-Disclosed</th>\n",
       "      <td>11</td>\n",
       "      <td>1.91%</td>\n",
       "    </tr>\n",
       "  </tbody>\n",
       "</table>\n",
       "</div>"
      ],
      "text/plain": [
       "                      Total Players Percentage of Players\n",
       "Male                            484                84.03%\n",
       "Female                           81                14.06%\n",
       "Other / Non-Disclosed            11                 1.91%"
      ]
     },
     "execution_count": 58,
     "metadata": {},
     "output_type": "execute_result"
    }
   ],
   "source": [
    "#Gender Demographics\n",
    "percent_male_players = (484 / 576)*100\n",
    "count_male_players = 484\n",
    "percent_female_players = (81 / 576)*100\n",
    "count_female_players = 81\n",
    "percent_other_players = (11 / 576)*100\n",
    "count_other_players = 11\n",
    "\n",
    "#create gender values data frame\n",
    "gender_values = pd.DataFrame(columns = [\"Total Players\", \"Percentage of Players\"], \n",
    "                             index = [\"Male\", \"Female\", \"Other / Non-Disclosed\"])\n",
    "\n",
    "gender_values.loc[\"Male\"] = [count_male_players, percent_male_players]\n",
    "gender_values.loc[\"Female\"] = [count_female_players, percent_female_players]\n",
    "gender_values.loc[\"Other / Non-Disclosed\"] = [count_other_players, percent_other_players]\n",
    "\n",
    "gender_values[\"Percentage of Players\"] = gender_values[\"Percentage of Players\"].map('{:,.2f}%'.format)\n",
    "\n",
    "gender_values"
   ]
  },
  {
   "cell_type": "code",
   "execution_count": 38,
   "metadata": {},
   "outputs": [
    {
     "data": {
      "text/plain": [
       "Male                     652\n",
       "Female                   113\n",
       "Other / Non-Disclosed     15\n",
       "Name: Gender, dtype: int64"
      ]
     },
     "execution_count": 38,
     "metadata": {},
     "output_type": "execute_result"
    }
   ],
   "source": [
    "#Gender purchase count data frame, gives you purchase count by gender including duplicates\n",
    "gender_count = pymoli_df[\"Gender\"].value_counts()\n",
    "gender_count"
   ]
  },
  {
   "cell_type": "code",
   "execution_count": 122,
   "metadata": {},
   "outputs": [],
   "source": [
    "#groupby and perform calculations\n",
    "gender_purchase_total = pymoli_df.groupby([\"Gender\"]).sum()[\"Price\"].rename(\"Total Purchase Value\")\n",
    "\n",
    "gender_avg_price = pymoli_df.groupby([\"Gender\"]).mean()[\"Price\"].rename(\"Average Purchase Price\")"
   ]
  },
  {
   "cell_type": "code",
   "execution_count": 120,
   "metadata": {},
   "outputs": [],
   "source": [
    "#calculations for summary table\n",
    "purchase_count_male = 652\n",
    "purchase_count_female = 113\n",
    "purchase_count_other = 15\n",
    "avg_price_male = gender_avg_price[\"Male\"]\n",
    "male_total_value = gender_purchase_total[\"Male\"]\n",
    "male_avg_total = male_total_value / count_male_players\n",
    "avg_price_female = gender_avg_price[\"Female\"]\n",
    "female_total_value = gender_purchase_total[\"Female\"]\n",
    "female_avg_total = female_total_value / count_female_players\n",
    "avg_price_other = gender_avg_price[\"Other / Non-Disclosed\"]\n",
    "other_total_value = gender_purchase_total[\"Other / Non-Disclosed\"]\n",
    "other_avg_total = other_total_value / count_other_players\n"
   ]
  },
  {
   "cell_type": "code",
   "execution_count": 133,
   "metadata": {},
   "outputs": [
    {
     "data": {
      "text/html": [
       "<div>\n",
       "<style scoped>\n",
       "    .dataframe tbody tr th:only-of-type {\n",
       "        vertical-align: middle;\n",
       "    }\n",
       "\n",
       "    .dataframe tbody tr th {\n",
       "        vertical-align: top;\n",
       "    }\n",
       "\n",
       "    .dataframe thead th {\n",
       "        text-align: right;\n",
       "    }\n",
       "</style>\n",
       "<table border=\"1\" class=\"dataframe\">\n",
       "  <thead>\n",
       "    <tr style=\"text-align: right;\">\n",
       "      <th></th>\n",
       "      <th>Purchase Count</th>\n",
       "      <th>Avg Purchase Price</th>\n",
       "      <th>Total Purchase Value</th>\n",
       "      <th>Avg Total Purchase per Person</th>\n",
       "    </tr>\n",
       "  </thead>\n",
       "  <tbody>\n",
       "    <tr>\n",
       "      <th>Gender</th>\n",
       "      <td>NaN</td>\n",
       "      <td>$nan</td>\n",
       "      <td>$nan</td>\n",
       "      <td>$nan</td>\n",
       "    </tr>\n",
       "    <tr>\n",
       "      <th>Male</th>\n",
       "      <td>652</td>\n",
       "      <td>$3.02</td>\n",
       "      <td>$1,967.64</td>\n",
       "      <td>$4.07</td>\n",
       "    </tr>\n",
       "    <tr>\n",
       "      <th>Female</th>\n",
       "      <td>113</td>\n",
       "      <td>$3.20</td>\n",
       "      <td>$361.94</td>\n",
       "      <td>$4.47</td>\n",
       "    </tr>\n",
       "    <tr>\n",
       "      <th>Other / Non-Disclosed</th>\n",
       "      <td>15</td>\n",
       "      <td>$3.35</td>\n",
       "      <td>$50.19</td>\n",
       "      <td>$4.56</td>\n",
       "    </tr>\n",
       "  </tbody>\n",
       "</table>\n",
       "</div>"
      ],
      "text/plain": [
       "                      Purchase Count Avg Purchase Price Total Purchase Value  \\\n",
       "Gender                           NaN               $nan                 $nan   \n",
       "Male                             652              $3.02            $1,967.64   \n",
       "Female                           113              $3.20              $361.94   \n",
       "Other / Non-Disclosed             15              $3.35               $50.19   \n",
       "\n",
       "                      Avg Total Purchase per Person  \n",
       "Gender                                         $nan  \n",
       "Male                                          $4.07  \n",
       "Female                                        $4.47  \n",
       "Other / Non-Disclosed                         $4.56  "
      ]
     },
     "execution_count": 133,
     "metadata": {},
     "output_type": "execute_result"
    }
   ],
   "source": [
    "# Purchasing Analysis (Gender)\n",
    "\n",
    "purchase_summary = pd.DataFrame(columns = [\"Purchase Count\", \"Avg Purchase Price\", \n",
    "                                           \"Total Purchase Value\", \"Avg Total Purchase per Person\"], \n",
    "                             index = [\"Gender\", \"Male\", \"Female\", \"Other / Non-Disclosed\"])\n",
    "\n",
    "#GET RID OF NAN IN GENDER ROW\n",
    "purchase_summary.loc[\"Gender\"] \n",
    "purchase_summary.loc[\"Male\"] = [purchase_count_male, avg_price_male, male_total_value, male_avg_total]\n",
    "purchase_summary.loc[\"Female\"] = [purchase_count_female, avg_price_female, female_total_value, female_avg_total]\n",
    "purchase_summary.loc[\"Other / Non-Disclosed\"] = [purchase_count_other, avg_price_other, \n",
    "                                                 other_total_value, other_avg_total]\n",
    "\n",
    "#format and map\n",
    "purchase_summary[\"Avg Purchase Price\"] = purchase_summary[\"Avg Purchase Price\"].map('${:,.2f}'.format)\n",
    "purchase_summary[\"Total Purchase Value\"] = purchase_summary[\"Total Purchase Value\"].map('${:,.2f}'.format)\n",
    "purchase_summary[\"Avg Total Purchase per Person\"] = purchase_summary[\"Avg Total Purchase per Person\"].map('${:,.2f}'.format)\n",
    "\n",
    "purchase_summary"
   ]
  },
  {
   "cell_type": "code",
   "execution_count": null,
   "metadata": {},
   "outputs": [],
   "source": []
  },
  {
   "cell_type": "code",
   "execution_count": 141,
   "metadata": {},
   "outputs": [
    {
     "data": {
      "text/plain": [
       "0    20 to 24\n",
       "1         40+\n",
       "2    25 to 29\n",
       "3    25 to 29\n",
       "4    25 to 29\n",
       "Name: Age, dtype: category\n",
       "Categories (8, object): [0 to 9 < 10 to 14 < 15 to 19 < 20 to 24 < 25 to 29 < 30 to 34 < 35 to 39 < 40+]"
      ]
     },
     "execution_count": 141,
     "metadata": {},
     "output_type": "execute_result"
    }
   ],
   "source": [
    "#Age Demographics\n",
    "\n",
    "# Create bins for ages\n",
    "bins = [0, 1, 10, 15, 20, 25, 30, 35, 40]\n",
    "\n",
    "# Create labels for these bins\n",
    "group_labels = [\"0 to 9\", \"10 to 14\", \"15 to 19\", \"20 to 24\", \"25 to 29\", \"30 to 34\",\n",
    "                \"35 to 39\", \"40+\"]\n",
    "    \n",
    "    \n",
    "# Slice the data and place it into bins\n",
    "pd.cut(pymoli_df[\"Age\"], bins, labels=group_labels).head()"
   ]
  },
  {
   "cell_type": "code",
   "execution_count": 140,
   "metadata": {},
   "outputs": [
    {
     "data": {
      "text/html": [
       "<div>\n",
       "<style scoped>\n",
       "    .dataframe tbody tr th:only-of-type {\n",
       "        vertical-align: middle;\n",
       "    }\n",
       "\n",
       "    .dataframe tbody tr th {\n",
       "        vertical-align: top;\n",
       "    }\n",
       "\n",
       "    .dataframe thead th {\n",
       "        text-align: right;\n",
       "    }\n",
       "</style>\n",
       "<table border=\"1\" class=\"dataframe\">\n",
       "  <thead>\n",
       "    <tr style=\"text-align: right;\">\n",
       "      <th></th>\n",
       "      <th>Purchase ID</th>\n",
       "      <th>SN</th>\n",
       "      <th>Age</th>\n",
       "      <th>Gender</th>\n",
       "      <th>Item ID</th>\n",
       "      <th>Item Name</th>\n",
       "      <th>Price</th>\n",
       "      <th>Age Group</th>\n",
       "    </tr>\n",
       "  </thead>\n",
       "  <tbody>\n",
       "    <tr>\n",
       "      <th>0</th>\n",
       "      <td>0</td>\n",
       "      <td>Lisim78</td>\n",
       "      <td>20</td>\n",
       "      <td>Male</td>\n",
       "      <td>108</td>\n",
       "      <td>Extraction, Quickblade Of Trembling Hands</td>\n",
       "      <td>3.53</td>\n",
       "      <td>20 to 24</td>\n",
       "    </tr>\n",
       "    <tr>\n",
       "      <th>1</th>\n",
       "      <td>1</td>\n",
       "      <td>Lisovynya38</td>\n",
       "      <td>40</td>\n",
       "      <td>Male</td>\n",
       "      <td>143</td>\n",
       "      <td>Frenzied Scimitar</td>\n",
       "      <td>1.56</td>\n",
       "      <td>40+</td>\n",
       "    </tr>\n",
       "    <tr>\n",
       "      <th>2</th>\n",
       "      <td>2</td>\n",
       "      <td>Ithergue48</td>\n",
       "      <td>24</td>\n",
       "      <td>Male</td>\n",
       "      <td>92</td>\n",
       "      <td>Final Critic</td>\n",
       "      <td>4.88</td>\n",
       "      <td>25 to 29</td>\n",
       "    </tr>\n",
       "    <tr>\n",
       "      <th>3</th>\n",
       "      <td>3</td>\n",
       "      <td>Chamassasya86</td>\n",
       "      <td>24</td>\n",
       "      <td>Male</td>\n",
       "      <td>100</td>\n",
       "      <td>Blindscythe</td>\n",
       "      <td>3.27</td>\n",
       "      <td>25 to 29</td>\n",
       "    </tr>\n",
       "    <tr>\n",
       "      <th>4</th>\n",
       "      <td>4</td>\n",
       "      <td>Iskosia90</td>\n",
       "      <td>23</td>\n",
       "      <td>Male</td>\n",
       "      <td>131</td>\n",
       "      <td>Fury</td>\n",
       "      <td>1.44</td>\n",
       "      <td>25 to 29</td>\n",
       "    </tr>\n",
       "  </tbody>\n",
       "</table>\n",
       "</div>"
      ],
      "text/plain": [
       "   Purchase ID             SN  Age Gender  Item ID  \\\n",
       "0            0        Lisim78   20   Male      108   \n",
       "1            1    Lisovynya38   40   Male      143   \n",
       "2            2     Ithergue48   24   Male       92   \n",
       "3            3  Chamassasya86   24   Male      100   \n",
       "4            4      Iskosia90   23   Male      131   \n",
       "\n",
       "                                   Item Name  Price Age Group  \n",
       "0  Extraction, Quickblade Of Trembling Hands   3.53  20 to 24  \n",
       "1                          Frenzied Scimitar   1.56       40+  \n",
       "2                               Final Critic   4.88  25 to 29  \n",
       "3                                Blindscythe   3.27  25 to 29  \n",
       "4                                       Fury   1.44  25 to 29  "
      ]
     },
     "execution_count": 140,
     "metadata": {},
     "output_type": "execute_result"
    }
   ],
   "source": [
    "pymoli_df[\"Age Group\"] = pd.cut(pymoli_df[\"Age\"], bins, labels=group_labels)\n",
    "pymoli_df.head()"
   ]
  },
  {
   "cell_type": "code",
   "execution_count": null,
   "metadata": {},
   "outputs": [],
   "source": []
  }
 ],
 "metadata": {
  "kernelspec": {
   "display_name": "Python 3",
   "language": "python",
   "name": "python3"
  },
  "language_info": {
   "codemirror_mode": {
    "name": "ipython",
    "version": 3
   },
   "file_extension": ".py",
   "mimetype": "text/x-python",
   "name": "python",
   "nbconvert_exporter": "python",
   "pygments_lexer": "ipython3",
   "version": "3.7.6"
  }
 },
 "nbformat": 4,
 "nbformat_minor": 4
}
