{
 "cells": [
  {
   "cell_type": "code",
   "execution_count": 40,
   "metadata": {},
   "outputs": [
    {
     "data": {
      "text/html": [
       "<style  type=\"text/css\" >\n",
       "</style><table id=\"T_def47e74_ba7a_11ea_945d_70bc106b664f\" ><thead>    <tr>        <th class=\"col_heading level0 col0\" >Purchase ID</th>        <th class=\"col_heading level0 col1\" >SN</th>        <th class=\"col_heading level0 col2\" >Age</th>        <th class=\"col_heading level0 col3\" >Gender</th>        <th class=\"col_heading level0 col4\" >Item ID</th>        <th class=\"col_heading level0 col5\" >Item Name</th>        <th class=\"col_heading level0 col6\" >Price</th>    </tr></thead><tbody>\n",
       "                <tr>\n",
       "                                <td id=\"T_def47e74_ba7a_11ea_945d_70bc106b664frow0_col0\" class=\"data row0 col0\" >0</td>\n",
       "                        <td id=\"T_def47e74_ba7a_11ea_945d_70bc106b664frow0_col1\" class=\"data row0 col1\" >Lisim78</td>\n",
       "                        <td id=\"T_def47e74_ba7a_11ea_945d_70bc106b664frow0_col2\" class=\"data row0 col2\" >20</td>\n",
       "                        <td id=\"T_def47e74_ba7a_11ea_945d_70bc106b664frow0_col3\" class=\"data row0 col3\" >Male</td>\n",
       "                        <td id=\"T_def47e74_ba7a_11ea_945d_70bc106b664frow0_col4\" class=\"data row0 col4\" >108</td>\n",
       "                        <td id=\"T_def47e74_ba7a_11ea_945d_70bc106b664frow0_col5\" class=\"data row0 col5\" >Extraction, Quickblade Of Trembling Hands</td>\n",
       "                        <td id=\"T_def47e74_ba7a_11ea_945d_70bc106b664frow0_col6\" class=\"data row0 col6\" >3.530000</td>\n",
       "            </tr>\n",
       "            <tr>\n",
       "                                <td id=\"T_def47e74_ba7a_11ea_945d_70bc106b664frow1_col0\" class=\"data row1 col0\" >1</td>\n",
       "                        <td id=\"T_def47e74_ba7a_11ea_945d_70bc106b664frow1_col1\" class=\"data row1 col1\" >Lisovynya38</td>\n",
       "                        <td id=\"T_def47e74_ba7a_11ea_945d_70bc106b664frow1_col2\" class=\"data row1 col2\" >40</td>\n",
       "                        <td id=\"T_def47e74_ba7a_11ea_945d_70bc106b664frow1_col3\" class=\"data row1 col3\" >Male</td>\n",
       "                        <td id=\"T_def47e74_ba7a_11ea_945d_70bc106b664frow1_col4\" class=\"data row1 col4\" >143</td>\n",
       "                        <td id=\"T_def47e74_ba7a_11ea_945d_70bc106b664frow1_col5\" class=\"data row1 col5\" >Frenzied Scimitar</td>\n",
       "                        <td id=\"T_def47e74_ba7a_11ea_945d_70bc106b664frow1_col6\" class=\"data row1 col6\" >1.560000</td>\n",
       "            </tr>\n",
       "            <tr>\n",
       "                                <td id=\"T_def47e74_ba7a_11ea_945d_70bc106b664frow2_col0\" class=\"data row2 col0\" >2</td>\n",
       "                        <td id=\"T_def47e74_ba7a_11ea_945d_70bc106b664frow2_col1\" class=\"data row2 col1\" >Ithergue48</td>\n",
       "                        <td id=\"T_def47e74_ba7a_11ea_945d_70bc106b664frow2_col2\" class=\"data row2 col2\" >24</td>\n",
       "                        <td id=\"T_def47e74_ba7a_11ea_945d_70bc106b664frow2_col3\" class=\"data row2 col3\" >Male</td>\n",
       "                        <td id=\"T_def47e74_ba7a_11ea_945d_70bc106b664frow2_col4\" class=\"data row2 col4\" >92</td>\n",
       "                        <td id=\"T_def47e74_ba7a_11ea_945d_70bc106b664frow2_col5\" class=\"data row2 col5\" >Final Critic</td>\n",
       "                        <td id=\"T_def47e74_ba7a_11ea_945d_70bc106b664frow2_col6\" class=\"data row2 col6\" >4.880000</td>\n",
       "            </tr>\n",
       "            <tr>\n",
       "                                <td id=\"T_def47e74_ba7a_11ea_945d_70bc106b664frow3_col0\" class=\"data row3 col0\" >3</td>\n",
       "                        <td id=\"T_def47e74_ba7a_11ea_945d_70bc106b664frow3_col1\" class=\"data row3 col1\" >Chamassasya86</td>\n",
       "                        <td id=\"T_def47e74_ba7a_11ea_945d_70bc106b664frow3_col2\" class=\"data row3 col2\" >24</td>\n",
       "                        <td id=\"T_def47e74_ba7a_11ea_945d_70bc106b664frow3_col3\" class=\"data row3 col3\" >Male</td>\n",
       "                        <td id=\"T_def47e74_ba7a_11ea_945d_70bc106b664frow3_col4\" class=\"data row3 col4\" >100</td>\n",
       "                        <td id=\"T_def47e74_ba7a_11ea_945d_70bc106b664frow3_col5\" class=\"data row3 col5\" >Blindscythe</td>\n",
       "                        <td id=\"T_def47e74_ba7a_11ea_945d_70bc106b664frow3_col6\" class=\"data row3 col6\" >3.270000</td>\n",
       "            </tr>\n",
       "            <tr>\n",
       "                                <td id=\"T_def47e74_ba7a_11ea_945d_70bc106b664frow4_col0\" class=\"data row4 col0\" >4</td>\n",
       "                        <td id=\"T_def47e74_ba7a_11ea_945d_70bc106b664frow4_col1\" class=\"data row4 col1\" >Iskosia90</td>\n",
       "                        <td id=\"T_def47e74_ba7a_11ea_945d_70bc106b664frow4_col2\" class=\"data row4 col2\" >23</td>\n",
       "                        <td id=\"T_def47e74_ba7a_11ea_945d_70bc106b664frow4_col3\" class=\"data row4 col3\" >Male</td>\n",
       "                        <td id=\"T_def47e74_ba7a_11ea_945d_70bc106b664frow4_col4\" class=\"data row4 col4\" >131</td>\n",
       "                        <td id=\"T_def47e74_ba7a_11ea_945d_70bc106b664frow4_col5\" class=\"data row4 col5\" >Fury</td>\n",
       "                        <td id=\"T_def47e74_ba7a_11ea_945d_70bc106b664frow4_col6\" class=\"data row4 col6\" >1.440000</td>\n",
       "            </tr>\n",
       "    </tbody></table>"
      ],
      "text/plain": [
       "<pandas.io.formats.style.Styler at 0x25e09baeb48>"
      ]
     },
     "execution_count": 40,
     "metadata": {},
     "output_type": "execute_result"
    }
   ],
   "source": [
    "import pandas as pd\n",
    "\n",
    "# load the file\n",
    "pymoli = \"Resources/purchase_data.csv\"\n",
    "\n",
    "# Read Purchasing File and store into Pandas data frame\n",
    "pymoli_df = pd.read_csv(pymoli).dropna()\n",
    "pymoli_df.head().style.hide_index()"
   ]
  },
  {
   "cell_type": "code",
   "execution_count": 41,
   "metadata": {},
   "outputs": [
    {
     "data": {
      "text/html": [
       "<style  type=\"text/css\" >\n",
       "</style><table id=\"T_dfd49d82_ba7a_11ea_86af_70bc106b664f\" ><thead>    <tr>        <th class=\"col_heading level0 col0\" >Total Players</th>    </tr></thead><tbody>\n",
       "                <tr>\n",
       "                                <td id=\"T_dfd49d82_ba7a_11ea_86af_70bc106b664frow0_col0\" class=\"data row0 col0\" >576</td>\n",
       "            </tr>\n",
       "    </tbody></table>"
      ],
      "text/plain": [
       "<pandas.io.formats.style.Styler at 0x25e09bbe348>"
      ]
     },
     "execution_count": 41,
     "metadata": {},
     "output_type": "execute_result"
    }
   ],
   "source": [
    "# Create player demographics dataframe for later use\n",
    "demographics = pymoli_df[[\"Gender\", \"SN\", \"Age\"]].drop_duplicates()\n",
    "\n",
    "# Create player_count variable for later use\n",
    "player_count = pymoli_df[\"SN\"].nunique()\n",
    "\n",
    "total_players_df = pd.DataFrame({\"Total Players\": [player_count]}).style.hide_index()\n",
    "total_players_df"
   ]
  },
  {
   "cell_type": "code",
   "execution_count": 42,
   "metadata": {},
   "outputs": [
    {
     "data": {
      "text/plain": [
       "Purchase ID    780\n",
       "SN             576\n",
       "Age             39\n",
       "Gender           3\n",
       "Item ID        179\n",
       "Item Name      179\n",
       "Price          145\n",
       "dtype: int64"
      ]
     },
     "execution_count": 42,
     "metadata": {},
     "output_type": "execute_result"
    }
   ],
   "source": [
    "#unique values core each category\n",
    "#note there are 780 purchase IDs but only 576 unique screen names(i.e. unique people that bought items)\n",
    "pymoli_df.nunique()\n"
   ]
  },
  {
   "cell_type": "code",
   "execution_count": 43,
   "metadata": {},
   "outputs": [
    {
     "data": {
      "text/html": [
       "<div>\n",
       "<style scoped>\n",
       "    .dataframe tbody tr th:only-of-type {\n",
       "        vertical-align: middle;\n",
       "    }\n",
       "\n",
       "    .dataframe tbody tr th {\n",
       "        vertical-align: top;\n",
       "    }\n",
       "\n",
       "    .dataframe thead th {\n",
       "        text-align: right;\n",
       "    }\n",
       "</style>\n",
       "<table border=\"1\" class=\"dataframe\">\n",
       "  <thead>\n",
       "    <tr style=\"text-align: right;\">\n",
       "      <th></th>\n",
       "      <th>Number of Unique Items</th>\n",
       "      <th>Average Price</th>\n",
       "      <th>Number of Purchases</th>\n",
       "      <th>Total Revenue</th>\n",
       "    </tr>\n",
       "  </thead>\n",
       "  <tbody>\n",
       "    <tr>\n",
       "      <th>0</th>\n",
       "      <td>179</td>\n",
       "      <td>$3.05</td>\n",
       "      <td>780</td>\n",
       "      <td>$2,379.77</td>\n",
       "    </tr>\n",
       "  </tbody>\n",
       "</table>\n",
       "</div>"
      ],
      "text/plain": [
       "   Number of Unique Items Average Price  Number of Purchases Total Revenue\n",
       "0                     179         $3.05                  780     $2,379.77"
      ]
     },
     "execution_count": 43,
     "metadata": {},
     "output_type": "execute_result"
    }
   ],
   "source": [
    "#Purchasing Analysis (Total)\n",
    "unique_items = pymoli_df[\"Item ID\"].nunique()\n",
    "average_price = pymoli_df[\"Price\"].mean()\n",
    "number_purchases = pymoli_df[\"Purchase ID\"].nunique()\n",
    "total_revenue = pymoli_df[\"Price\"].sum()\n",
    "\n",
    "\n",
    "Values = pd.DataFrame({\"Number of Unique Items\": [unique_items], \n",
    "                       \"Average Price\": [average_price], \n",
    "                       \"Number of Purchases\": [number_purchases], \n",
    "                       \"Total Revenue\": [total_revenue]})\n",
    "\n",
    "Values[\"Average Price\"] = Values[\"Average Price\"].map('${:,.2f}'.format)\n",
    "Values[\"Total Revenue\"] = Values[\"Total Revenue\"].map('${:,.2f}'.format)\n",
    "\n",
    "Values"
   ]
  },
  {
   "cell_type": "code",
   "execution_count": 44,
   "metadata": {},
   "outputs": [
    {
     "data": {
      "text/plain": [
       "Male                     484\n",
       "Female                    81\n",
       "Other / Non-Disclosed     11\n",
       "Name: Gender, dtype: int64"
      ]
     },
     "execution_count": 44,
     "metadata": {},
     "output_type": "execute_result"
    }
   ],
   "source": [
    "#Gender data frame, gives you purchase count by gender\n",
    "#this data frame has no duplicates \n",
    "gender = demographics[\"Gender\"].value_counts()\n",
    "gender"
   ]
  },
  {
   "cell_type": "code",
   "execution_count": 45,
   "metadata": {},
   "outputs": [
    {
     "data": {
      "text/html": [
       "<div>\n",
       "<style scoped>\n",
       "    .dataframe tbody tr th:only-of-type {\n",
       "        vertical-align: middle;\n",
       "    }\n",
       "\n",
       "    .dataframe tbody tr th {\n",
       "        vertical-align: top;\n",
       "    }\n",
       "\n",
       "    .dataframe thead th {\n",
       "        text-align: right;\n",
       "    }\n",
       "</style>\n",
       "<table border=\"1\" class=\"dataframe\">\n",
       "  <thead>\n",
       "    <tr style=\"text-align: right;\">\n",
       "      <th></th>\n",
       "      <th>Total Players</th>\n",
       "      <th>Percentage of Players</th>\n",
       "    </tr>\n",
       "  </thead>\n",
       "  <tbody>\n",
       "    <tr>\n",
       "      <th>Male</th>\n",
       "      <td>484</td>\n",
       "      <td>84.03%</td>\n",
       "    </tr>\n",
       "    <tr>\n",
       "      <th>Female</th>\n",
       "      <td>81</td>\n",
       "      <td>14.06%</td>\n",
       "    </tr>\n",
       "    <tr>\n",
       "      <th>Other / Non-Disclosed</th>\n",
       "      <td>11</td>\n",
       "      <td>1.91%</td>\n",
       "    </tr>\n",
       "  </tbody>\n",
       "</table>\n",
       "</div>"
      ],
      "text/plain": [
       "                      Total Players Percentage of Players\n",
       "Male                            484                84.03%\n",
       "Female                           81                14.06%\n",
       "Other / Non-Disclosed            11                 1.91%"
      ]
     },
     "execution_count": 45,
     "metadata": {},
     "output_type": "execute_result"
    }
   ],
   "source": [
    "#Gender Demographics\n",
    "percent_male_players = (484 / 576)*100\n",
    "count_male_players = 484\n",
    "percent_female_players = (81 / 576)*100\n",
    "count_female_players = 81\n",
    "percent_other_players = (11 / 576)*100\n",
    "count_other_players = 11\n",
    "\n",
    "#create gender values data frame\n",
    "gender_values = pd.DataFrame(columns = [\"Total Players\", \"Percentage of Players\"], \n",
    "                             index = [\"Male\", \"Female\", \"Other / Non-Disclosed\"])\n",
    "\n",
    "gender_values.loc[\"Male\"] = [count_male_players, percent_male_players]\n",
    "gender_values.loc[\"Female\"] = [count_female_players, percent_female_players]\n",
    "gender_values.loc[\"Other / Non-Disclosed\"] = [count_other_players, percent_other_players]\n",
    "\n",
    "gender_values[\"Percentage of Players\"] = gender_values[\"Percentage of Players\"].map('{:,.2f}%'.format)\n",
    "\n",
    "gender_values"
   ]
  },
  {
   "cell_type": "code",
   "execution_count": 46,
   "metadata": {},
   "outputs": [
    {
     "data": {
      "text/plain": [
       "Male                     652\n",
       "Female                   113\n",
       "Other / Non-Disclosed     15\n",
       "Name: Gender, dtype: int64"
      ]
     },
     "execution_count": 46,
     "metadata": {},
     "output_type": "execute_result"
    }
   ],
   "source": [
    "#Gender purchase count data frame, gives you purchase count by gender including duplicates\n",
    "gender_count = pymoli_df[\"Gender\"].value_counts()\n",
    "gender_count"
   ]
  },
  {
   "cell_type": "code",
   "execution_count": 47,
   "metadata": {},
   "outputs": [],
   "source": [
    "#groupby and perform calculations\n",
    "gender_purchase_total = pymoli_df.groupby([\"Gender\"]).sum()[\"Price\"].rename(\"Total Purchase Value\")\n",
    "\n",
    "gender_avg_price = pymoli_df.groupby([\"Gender\"]).mean()[\"Price\"].rename(\"Average Purchase Price\")"
   ]
  },
  {
   "cell_type": "code",
   "execution_count": 48,
   "metadata": {},
   "outputs": [],
   "source": [
    "#calculations for summary table\n",
    "purchase_count_male = 652\n",
    "purchase_count_female = 113\n",
    "purchase_count_other = 15\n",
    "avg_price_male = gender_avg_price[\"Male\"]\n",
    "male_total_value = gender_purchase_total[\"Male\"]\n",
    "male_avg_total = male_total_value / count_male_players\n",
    "avg_price_female = gender_avg_price[\"Female\"]\n",
    "female_total_value = gender_purchase_total[\"Female\"]\n",
    "female_avg_total = female_total_value / count_female_players\n",
    "avg_price_other = gender_avg_price[\"Other / Non-Disclosed\"]\n",
    "other_total_value = gender_purchase_total[\"Other / Non-Disclosed\"]\n",
    "other_avg_total = other_total_value / count_other_players\n"
   ]
  },
  {
   "cell_type": "code",
   "execution_count": 49,
   "metadata": {},
   "outputs": [
    {
     "data": {
      "text/html": [
       "<div>\n",
       "<style scoped>\n",
       "    .dataframe tbody tr th:only-of-type {\n",
       "        vertical-align: middle;\n",
       "    }\n",
       "\n",
       "    .dataframe tbody tr th {\n",
       "        vertical-align: top;\n",
       "    }\n",
       "\n",
       "    .dataframe thead th {\n",
       "        text-align: right;\n",
       "    }\n",
       "</style>\n",
       "<table border=\"1\" class=\"dataframe\">\n",
       "  <thead>\n",
       "    <tr style=\"text-align: right;\">\n",
       "      <th></th>\n",
       "      <th>Purchase Count</th>\n",
       "      <th>Avg Purchase Price</th>\n",
       "      <th>Total Purchase Value</th>\n",
       "      <th>Avg Total Purchase per Person</th>\n",
       "    </tr>\n",
       "  </thead>\n",
       "  <tbody>\n",
       "    <tr>\n",
       "      <th>Male</th>\n",
       "      <td>652</td>\n",
       "      <td>$3.02</td>\n",
       "      <td>$1,967.64</td>\n",
       "      <td>$4.07</td>\n",
       "    </tr>\n",
       "    <tr>\n",
       "      <th>Female</th>\n",
       "      <td>113</td>\n",
       "      <td>$3.20</td>\n",
       "      <td>$361.94</td>\n",
       "      <td>$4.47</td>\n",
       "    </tr>\n",
       "    <tr>\n",
       "      <th>Other / Non-Disclosed</th>\n",
       "      <td>15</td>\n",
       "      <td>$3.35</td>\n",
       "      <td>$50.19</td>\n",
       "      <td>$4.56</td>\n",
       "    </tr>\n",
       "  </tbody>\n",
       "</table>\n",
       "</div>"
      ],
      "text/plain": [
       "                      Purchase Count Avg Purchase Price Total Purchase Value  \\\n",
       "Male                             652              $3.02            $1,967.64   \n",
       "Female                           113              $3.20              $361.94   \n",
       "Other / Non-Disclosed             15              $3.35               $50.19   \n",
       "\n",
       "                      Avg Total Purchase per Person  \n",
       "Male                                          $4.07  \n",
       "Female                                        $4.47  \n",
       "Other / Non-Disclosed                         $4.56  "
      ]
     },
     "execution_count": 49,
     "metadata": {},
     "output_type": "execute_result"
    }
   ],
   "source": [
    "# Purchasing Analysis (Gender)\n",
    "\n",
    "purchase_summary = pd.DataFrame(columns = [\"Purchase Count\", \"Avg Purchase Price\", \n",
    "                                           \"Total Purchase Value\", \"Avg Total Purchase per Person\"], \n",
    "                             index = [\"Male\", \"Female\", \"Other / Non-Disclosed\"])\n",
    "\n",
    "purchase_summary.loc[\"Male\"] = [purchase_count_male, avg_price_male, male_total_value, male_avg_total]\n",
    "purchase_summary.loc[\"Female\"] = [purchase_count_female, avg_price_female, female_total_value, female_avg_total]\n",
    "purchase_summary.loc[\"Other / Non-Disclosed\"] = [purchase_count_other, avg_price_other, \n",
    "                                                 other_total_value, other_avg_total]\n",
    "\n",
    "#format and map\n",
    "purchase_summary[\"Avg Purchase Price\"] = purchase_summary[\"Avg Purchase Price\"].map('${:,.2f}'.format)\n",
    "purchase_summary[\"Total Purchase Value\"] = purchase_summary[\"Total Purchase Value\"].map('${:,.2f}'.format)\n",
    "purchase_summary[\"Avg Total Purchase per Person\"] = purchase_summary[\"Avg Total Purchase per Person\"].map('${:,.2f}'.format)\n",
    "\n",
    "purchase_summary"
   ]
  },
  {
   "cell_type": "code",
   "execution_count": 50,
   "metadata": {},
   "outputs": [
    {
     "data": {
      "text/plain": [
       "0    15-19\n",
       "1    35-39\n",
       "2    20-24\n",
       "3    20-24\n",
       "4    20-24\n",
       "Name: Age, dtype: category\n",
       "Categories (8, object): [<10 < 10-14 < 15-19 < 20-24 < 25-29 < 30-34 < 35-39 < 40+]"
      ]
     },
     "execution_count": 50,
     "metadata": {},
     "output_type": "execute_result"
    }
   ],
   "source": [
    "#Age Demographics\n",
    "\n",
    "# Create bins for ages\n",
    "bins = [0, 10, 15, 20, 25, 30, 35, 40, 125]\n",
    "\n",
    "# Create labels for these bins\n",
    "group_labels = [\"<10\", \"10-14\", \"15-19\", \"20-24\", \"25-29\", \"30-34\",\n",
    "                \"35-39\", \"40+\"]\n",
    "    \n",
    "    \n",
    "# Slice the data and place it into bins\n",
    "pd.cut(pymoli_df[\"Age\"], bins, labels=group_labels).head()"
   ]
  },
  {
   "cell_type": "code",
   "execution_count": 51,
   "metadata": {},
   "outputs": [
    {
     "data": {
      "text/html": [
       "<style  type=\"text/css\" >\n",
       "</style><table id=\"T_e5d84a8a_ba7a_11ea_be81_70bc106b664f\" ><thead>    <tr>        <th class=\"col_heading level0 col0\" >Purchase ID</th>        <th class=\"col_heading level0 col1\" >SN</th>        <th class=\"col_heading level0 col2\" >Age</th>        <th class=\"col_heading level0 col3\" >Gender</th>        <th class=\"col_heading level0 col4\" >Item ID</th>        <th class=\"col_heading level0 col5\" >Item Name</th>        <th class=\"col_heading level0 col6\" >Price</th>        <th class=\"col_heading level0 col7\" >Age Group</th>    </tr></thead><tbody>\n",
       "                <tr>\n",
       "                                <td id=\"T_e5d84a8a_ba7a_11ea_be81_70bc106b664frow0_col0\" class=\"data row0 col0\" >0</td>\n",
       "                        <td id=\"T_e5d84a8a_ba7a_11ea_be81_70bc106b664frow0_col1\" class=\"data row0 col1\" >Lisim78</td>\n",
       "                        <td id=\"T_e5d84a8a_ba7a_11ea_be81_70bc106b664frow0_col2\" class=\"data row0 col2\" >20</td>\n",
       "                        <td id=\"T_e5d84a8a_ba7a_11ea_be81_70bc106b664frow0_col3\" class=\"data row0 col3\" >Male</td>\n",
       "                        <td id=\"T_e5d84a8a_ba7a_11ea_be81_70bc106b664frow0_col4\" class=\"data row0 col4\" >108</td>\n",
       "                        <td id=\"T_e5d84a8a_ba7a_11ea_be81_70bc106b664frow0_col5\" class=\"data row0 col5\" >Extraction, Quickblade Of Trembling Hands</td>\n",
       "                        <td id=\"T_e5d84a8a_ba7a_11ea_be81_70bc106b664frow0_col6\" class=\"data row0 col6\" >3.530000</td>\n",
       "                        <td id=\"T_e5d84a8a_ba7a_11ea_be81_70bc106b664frow0_col7\" class=\"data row0 col7\" >15-19</td>\n",
       "            </tr>\n",
       "            <tr>\n",
       "                                <td id=\"T_e5d84a8a_ba7a_11ea_be81_70bc106b664frow1_col0\" class=\"data row1 col0\" >1</td>\n",
       "                        <td id=\"T_e5d84a8a_ba7a_11ea_be81_70bc106b664frow1_col1\" class=\"data row1 col1\" >Lisovynya38</td>\n",
       "                        <td id=\"T_e5d84a8a_ba7a_11ea_be81_70bc106b664frow1_col2\" class=\"data row1 col2\" >40</td>\n",
       "                        <td id=\"T_e5d84a8a_ba7a_11ea_be81_70bc106b664frow1_col3\" class=\"data row1 col3\" >Male</td>\n",
       "                        <td id=\"T_e5d84a8a_ba7a_11ea_be81_70bc106b664frow1_col4\" class=\"data row1 col4\" >143</td>\n",
       "                        <td id=\"T_e5d84a8a_ba7a_11ea_be81_70bc106b664frow1_col5\" class=\"data row1 col5\" >Frenzied Scimitar</td>\n",
       "                        <td id=\"T_e5d84a8a_ba7a_11ea_be81_70bc106b664frow1_col6\" class=\"data row1 col6\" >1.560000</td>\n",
       "                        <td id=\"T_e5d84a8a_ba7a_11ea_be81_70bc106b664frow1_col7\" class=\"data row1 col7\" >35-39</td>\n",
       "            </tr>\n",
       "            <tr>\n",
       "                                <td id=\"T_e5d84a8a_ba7a_11ea_be81_70bc106b664frow2_col0\" class=\"data row2 col0\" >2</td>\n",
       "                        <td id=\"T_e5d84a8a_ba7a_11ea_be81_70bc106b664frow2_col1\" class=\"data row2 col1\" >Ithergue48</td>\n",
       "                        <td id=\"T_e5d84a8a_ba7a_11ea_be81_70bc106b664frow2_col2\" class=\"data row2 col2\" >24</td>\n",
       "                        <td id=\"T_e5d84a8a_ba7a_11ea_be81_70bc106b664frow2_col3\" class=\"data row2 col3\" >Male</td>\n",
       "                        <td id=\"T_e5d84a8a_ba7a_11ea_be81_70bc106b664frow2_col4\" class=\"data row2 col4\" >92</td>\n",
       "                        <td id=\"T_e5d84a8a_ba7a_11ea_be81_70bc106b664frow2_col5\" class=\"data row2 col5\" >Final Critic</td>\n",
       "                        <td id=\"T_e5d84a8a_ba7a_11ea_be81_70bc106b664frow2_col6\" class=\"data row2 col6\" >4.880000</td>\n",
       "                        <td id=\"T_e5d84a8a_ba7a_11ea_be81_70bc106b664frow2_col7\" class=\"data row2 col7\" >20-24</td>\n",
       "            </tr>\n",
       "            <tr>\n",
       "                                <td id=\"T_e5d84a8a_ba7a_11ea_be81_70bc106b664frow3_col0\" class=\"data row3 col0\" >3</td>\n",
       "                        <td id=\"T_e5d84a8a_ba7a_11ea_be81_70bc106b664frow3_col1\" class=\"data row3 col1\" >Chamassasya86</td>\n",
       "                        <td id=\"T_e5d84a8a_ba7a_11ea_be81_70bc106b664frow3_col2\" class=\"data row3 col2\" >24</td>\n",
       "                        <td id=\"T_e5d84a8a_ba7a_11ea_be81_70bc106b664frow3_col3\" class=\"data row3 col3\" >Male</td>\n",
       "                        <td id=\"T_e5d84a8a_ba7a_11ea_be81_70bc106b664frow3_col4\" class=\"data row3 col4\" >100</td>\n",
       "                        <td id=\"T_e5d84a8a_ba7a_11ea_be81_70bc106b664frow3_col5\" class=\"data row3 col5\" >Blindscythe</td>\n",
       "                        <td id=\"T_e5d84a8a_ba7a_11ea_be81_70bc106b664frow3_col6\" class=\"data row3 col6\" >3.270000</td>\n",
       "                        <td id=\"T_e5d84a8a_ba7a_11ea_be81_70bc106b664frow3_col7\" class=\"data row3 col7\" >20-24</td>\n",
       "            </tr>\n",
       "            <tr>\n",
       "                                <td id=\"T_e5d84a8a_ba7a_11ea_be81_70bc106b664frow4_col0\" class=\"data row4 col0\" >4</td>\n",
       "                        <td id=\"T_e5d84a8a_ba7a_11ea_be81_70bc106b664frow4_col1\" class=\"data row4 col1\" >Iskosia90</td>\n",
       "                        <td id=\"T_e5d84a8a_ba7a_11ea_be81_70bc106b664frow4_col2\" class=\"data row4 col2\" >23</td>\n",
       "                        <td id=\"T_e5d84a8a_ba7a_11ea_be81_70bc106b664frow4_col3\" class=\"data row4 col3\" >Male</td>\n",
       "                        <td id=\"T_e5d84a8a_ba7a_11ea_be81_70bc106b664frow4_col4\" class=\"data row4 col4\" >131</td>\n",
       "                        <td id=\"T_e5d84a8a_ba7a_11ea_be81_70bc106b664frow4_col5\" class=\"data row4 col5\" >Fury</td>\n",
       "                        <td id=\"T_e5d84a8a_ba7a_11ea_be81_70bc106b664frow4_col6\" class=\"data row4 col6\" >1.440000</td>\n",
       "                        <td id=\"T_e5d84a8a_ba7a_11ea_be81_70bc106b664frow4_col7\" class=\"data row4 col7\" >20-24</td>\n",
       "            </tr>\n",
       "    </tbody></table>"
      ],
      "text/plain": [
       "<pandas.io.formats.style.Styler at 0x25e09bc1188>"
      ]
     },
     "execution_count": 51,
     "metadata": {},
     "output_type": "execute_result"
    }
   ],
   "source": [
    "pymoli_df[\"Age Group\"] = pd.cut(pymoli_df[\"Age\"], bins, labels=group_labels)\n",
    "pymoli_df.head().style.hide_index()"
   ]
  },
  {
   "cell_type": "code",
   "execution_count": 52,
   "metadata": {},
   "outputs": [],
   "source": [
    "# Create a GroupBy object based upon \"group\" and count number in each age group\n",
    "age_total_count = pymoli_df.groupby([\"Age Group\"]).count()[\"Age\"].rename(\"Total Count\")\n",
    "g_avg_price = pymoli_df.groupby([\"Gender\"]).mean()[\"Price\"].rename(\"Average Purchase Price\")"
   ]
  },
  {
   "cell_type": "code",
   "execution_count": 53,
   "metadata": {},
   "outputs": [],
   "source": [
    "#DEBUG, NUMBERS ARE NOT CORRECT\n"
   ]
  },
  {
   "cell_type": "code",
   "execution_count": 54,
   "metadata": {},
   "outputs": [
    {
     "data": {
      "text/html": [
       "<div>\n",
       "<style scoped>\n",
       "    .dataframe tbody tr th:only-of-type {\n",
       "        vertical-align: middle;\n",
       "    }\n",
       "\n",
       "    .dataframe tbody tr th {\n",
       "        vertical-align: top;\n",
       "    }\n",
       "\n",
       "    .dataframe thead th {\n",
       "        text-align: right;\n",
       "    }\n",
       "</style>\n",
       "<table border=\"1\" class=\"dataframe\">\n",
       "  <thead>\n",
       "    <tr style=\"text-align: right;\">\n",
       "      <th></th>\n",
       "      <th>Total Count</th>\n",
       "      <th>Percentage of Players</th>\n",
       "    </tr>\n",
       "  </thead>\n",
       "  <tbody>\n",
       "    <tr>\n",
       "      <th>&lt;10</th>\n",
       "      <td>32</td>\n",
       "      <td>5.56%</td>\n",
       "    </tr>\n",
       "    <tr>\n",
       "      <th>10-14</th>\n",
       "      <td>54</td>\n",
       "      <td>9.38%</td>\n",
       "    </tr>\n",
       "    <tr>\n",
       "      <th>15-19</th>\n",
       "      <td>200</td>\n",
       "      <td>34.72%</td>\n",
       "    </tr>\n",
       "    <tr>\n",
       "      <th>20-24</th>\n",
       "      <td>325</td>\n",
       "      <td>56.42%</td>\n",
       "    </tr>\n",
       "    <tr>\n",
       "      <th>25-29</th>\n",
       "      <td>77</td>\n",
       "      <td>13.37%</td>\n",
       "    </tr>\n",
       "    <tr>\n",
       "      <th>30-34</th>\n",
       "      <td>52</td>\n",
       "      <td>9.03%</td>\n",
       "    </tr>\n",
       "    <tr>\n",
       "      <th>35-39</th>\n",
       "      <td>33</td>\n",
       "      <td>5.73%</td>\n",
       "    </tr>\n",
       "    <tr>\n",
       "      <th>40+</th>\n",
       "      <td>7</td>\n",
       "      <td>1.22%</td>\n",
       "    </tr>\n",
       "  </tbody>\n",
       "</table>\n",
       "</div>"
      ],
      "text/plain": [
       "      Total Count Percentage of Players\n",
       "<10            32                 5.56%\n",
       "10-14          54                 9.38%\n",
       "15-19         200                34.72%\n",
       "20-24         325                56.42%\n",
       "25-29          77                13.37%\n",
       "30-34          52                 9.03%\n",
       "35-39          33                 5.73%\n",
       "40+             7                 1.22%"
      ]
     },
     "execution_count": 54,
     "metadata": {},
     "output_type": "execute_result"
    }
   ],
   "source": [
    "#Calculate Age Demographics totals and percentages:\n",
    "under_ten_total = age_total_count[\"<10\"]\n",
    "age10to14_total = age_total_count[\"10-14\"]\n",
    "age15to19_total = age_total_count[\"15-19\"]\n",
    "age20to24_total = age_total_count[\"20-24\"]\n",
    "age25to29_total = age_total_count[\"25-29\"]\n",
    "age30to34_total = age_total_count[\"30-34\"]\n",
    "age35to39_total = age_total_count[\"35-39\"]\n",
    "age40_older_total = age_total_count[\"40+\"]\n",
    "\n",
    "percent_under_ten = (32 / 576)*100\n",
    "percent_10to14 = (54 / 576)*100\n",
    "percent_15to19 = (200 / 576)*100\n",
    "percent_20to24 = (325 / 576)*100\n",
    "percent_25to29 = (77 / 576)*100\n",
    "percent_30to34 = (52 / 576)*100\n",
    "percent_35to39 = (33 / 576)*100\n",
    "percent_40_older = (7 / 576)*100\n",
    "\n",
    "#create age demographic data frame\n",
    "age_demographics = pd.DataFrame(columns = [\"Total Count\", \"Percentage of Players\"], \n",
    "                             index = [\"<10\", \"10-14\", \"15-19\", \"20-24\", \"25-29\", \"30-34\",\n",
    "                \"35-39\", \"40+\"])\n",
    "\n",
    "age_demographics.loc[\"<10\"] = [under_ten_total, percent_under_ten]\n",
    "age_demographics.loc[\"10-14\"] = [age10to14_total, percent_10to14]\n",
    "age_demographics.loc[\"15-19\"] = [age15to19_total, percent_15to19]\n",
    "age_demographics.loc[\"20-24\"] = [age20to24_total, percent_20to24]\n",
    "age_demographics.loc[\"25-29\"] = [age25to29_total, percent_25to29]\n",
    "age_demographics.loc[\"30-34\"] = [age30to34_total, percent_30to34]\n",
    "age_demographics.loc[\"35-39\"] = [age35to39_total, percent_35to39]\n",
    "age_demographics.loc[\"40+\"] = [age40_older_total, percent_40_older]\n",
    "\n",
    "#format and map\n",
    "age_demographics[\"Percentage of Players\"] = age_demographics[\"Percentage of Players\"].map('{:,.2f}%'.format)\n",
    "\n",
    "age_demographics"
   ]
  },
  {
   "cell_type": "code",
   "execution_count": 55,
   "metadata": {},
   "outputs": [
    {
     "data": {
      "text/plain": [
       "0    15-19\n",
       "1    35-39\n",
       "2    20-24\n",
       "3    20-24\n",
       "4    20-24\n",
       "Name: Age, dtype: category\n",
       "Categories (8, object): [<10 < 10-14 < 15-19 < 20-24 < 25-29 < 30-34 < 35-39 < 40+]"
      ]
     },
     "execution_count": 55,
     "metadata": {},
     "output_type": "execute_result"
    }
   ],
   "source": [
    "#Purchasing Analysis by Age:\n",
    "\n",
    "# Create bins for ages\n",
    "bins = [0, 10, 15, 20, 25, 30, 35, 40, 125]\n",
    "\n",
    "# Create labels for these bins\n",
    "group_labels = [\"<10\", \"10-14\", \"15-19\", \"20-24\", \"25-29\", \"30-34\",\n",
    "                \"35-39\", \"40+\"]\n",
    "    \n",
    "    \n",
    "# Slice the data and place it into bins\n",
    "pd.cut(pymoli_df[\"Age\"], bins, labels=group_labels).head()"
   ]
  },
  {
   "cell_type": "code",
   "execution_count": 56,
   "metadata": {},
   "outputs": [
    {
     "data": {
      "text/html": [
       "<style  type=\"text/css\" >\n",
       "</style><table id=\"T_e8acbc80_ba7a_11ea_9d16_70bc106b664f\" ><thead>    <tr>        <th class=\"col_heading level0 col0\" >Purchase ID</th>        <th class=\"col_heading level0 col1\" >SN</th>        <th class=\"col_heading level0 col2\" >Age</th>        <th class=\"col_heading level0 col3\" >Gender</th>        <th class=\"col_heading level0 col4\" >Item ID</th>        <th class=\"col_heading level0 col5\" >Item Name</th>        <th class=\"col_heading level0 col6\" >Price</th>        <th class=\"col_heading level0 col7\" >Age Group</th>    </tr></thead><tbody>\n",
       "                <tr>\n",
       "                                <td id=\"T_e8acbc80_ba7a_11ea_9d16_70bc106b664frow0_col0\" class=\"data row0 col0\" >0</td>\n",
       "                        <td id=\"T_e8acbc80_ba7a_11ea_9d16_70bc106b664frow0_col1\" class=\"data row0 col1\" >Lisim78</td>\n",
       "                        <td id=\"T_e8acbc80_ba7a_11ea_9d16_70bc106b664frow0_col2\" class=\"data row0 col2\" >20</td>\n",
       "                        <td id=\"T_e8acbc80_ba7a_11ea_9d16_70bc106b664frow0_col3\" class=\"data row0 col3\" >Male</td>\n",
       "                        <td id=\"T_e8acbc80_ba7a_11ea_9d16_70bc106b664frow0_col4\" class=\"data row0 col4\" >108</td>\n",
       "                        <td id=\"T_e8acbc80_ba7a_11ea_9d16_70bc106b664frow0_col5\" class=\"data row0 col5\" >Extraction, Quickblade Of Trembling Hands</td>\n",
       "                        <td id=\"T_e8acbc80_ba7a_11ea_9d16_70bc106b664frow0_col6\" class=\"data row0 col6\" >3.530000</td>\n",
       "                        <td id=\"T_e8acbc80_ba7a_11ea_9d16_70bc106b664frow0_col7\" class=\"data row0 col7\" >15-19</td>\n",
       "            </tr>\n",
       "            <tr>\n",
       "                                <td id=\"T_e8acbc80_ba7a_11ea_9d16_70bc106b664frow1_col0\" class=\"data row1 col0\" >1</td>\n",
       "                        <td id=\"T_e8acbc80_ba7a_11ea_9d16_70bc106b664frow1_col1\" class=\"data row1 col1\" >Lisovynya38</td>\n",
       "                        <td id=\"T_e8acbc80_ba7a_11ea_9d16_70bc106b664frow1_col2\" class=\"data row1 col2\" >40</td>\n",
       "                        <td id=\"T_e8acbc80_ba7a_11ea_9d16_70bc106b664frow1_col3\" class=\"data row1 col3\" >Male</td>\n",
       "                        <td id=\"T_e8acbc80_ba7a_11ea_9d16_70bc106b664frow1_col4\" class=\"data row1 col4\" >143</td>\n",
       "                        <td id=\"T_e8acbc80_ba7a_11ea_9d16_70bc106b664frow1_col5\" class=\"data row1 col5\" >Frenzied Scimitar</td>\n",
       "                        <td id=\"T_e8acbc80_ba7a_11ea_9d16_70bc106b664frow1_col6\" class=\"data row1 col6\" >1.560000</td>\n",
       "                        <td id=\"T_e8acbc80_ba7a_11ea_9d16_70bc106b664frow1_col7\" class=\"data row1 col7\" >35-39</td>\n",
       "            </tr>\n",
       "            <tr>\n",
       "                                <td id=\"T_e8acbc80_ba7a_11ea_9d16_70bc106b664frow2_col0\" class=\"data row2 col0\" >2</td>\n",
       "                        <td id=\"T_e8acbc80_ba7a_11ea_9d16_70bc106b664frow2_col1\" class=\"data row2 col1\" >Ithergue48</td>\n",
       "                        <td id=\"T_e8acbc80_ba7a_11ea_9d16_70bc106b664frow2_col2\" class=\"data row2 col2\" >24</td>\n",
       "                        <td id=\"T_e8acbc80_ba7a_11ea_9d16_70bc106b664frow2_col3\" class=\"data row2 col3\" >Male</td>\n",
       "                        <td id=\"T_e8acbc80_ba7a_11ea_9d16_70bc106b664frow2_col4\" class=\"data row2 col4\" >92</td>\n",
       "                        <td id=\"T_e8acbc80_ba7a_11ea_9d16_70bc106b664frow2_col5\" class=\"data row2 col5\" >Final Critic</td>\n",
       "                        <td id=\"T_e8acbc80_ba7a_11ea_9d16_70bc106b664frow2_col6\" class=\"data row2 col6\" >4.880000</td>\n",
       "                        <td id=\"T_e8acbc80_ba7a_11ea_9d16_70bc106b664frow2_col7\" class=\"data row2 col7\" >20-24</td>\n",
       "            </tr>\n",
       "            <tr>\n",
       "                                <td id=\"T_e8acbc80_ba7a_11ea_9d16_70bc106b664frow3_col0\" class=\"data row3 col0\" >3</td>\n",
       "                        <td id=\"T_e8acbc80_ba7a_11ea_9d16_70bc106b664frow3_col1\" class=\"data row3 col1\" >Chamassasya86</td>\n",
       "                        <td id=\"T_e8acbc80_ba7a_11ea_9d16_70bc106b664frow3_col2\" class=\"data row3 col2\" >24</td>\n",
       "                        <td id=\"T_e8acbc80_ba7a_11ea_9d16_70bc106b664frow3_col3\" class=\"data row3 col3\" >Male</td>\n",
       "                        <td id=\"T_e8acbc80_ba7a_11ea_9d16_70bc106b664frow3_col4\" class=\"data row3 col4\" >100</td>\n",
       "                        <td id=\"T_e8acbc80_ba7a_11ea_9d16_70bc106b664frow3_col5\" class=\"data row3 col5\" >Blindscythe</td>\n",
       "                        <td id=\"T_e8acbc80_ba7a_11ea_9d16_70bc106b664frow3_col6\" class=\"data row3 col6\" >3.270000</td>\n",
       "                        <td id=\"T_e8acbc80_ba7a_11ea_9d16_70bc106b664frow3_col7\" class=\"data row3 col7\" >20-24</td>\n",
       "            </tr>\n",
       "            <tr>\n",
       "                                <td id=\"T_e8acbc80_ba7a_11ea_9d16_70bc106b664frow4_col0\" class=\"data row4 col0\" >4</td>\n",
       "                        <td id=\"T_e8acbc80_ba7a_11ea_9d16_70bc106b664frow4_col1\" class=\"data row4 col1\" >Iskosia90</td>\n",
       "                        <td id=\"T_e8acbc80_ba7a_11ea_9d16_70bc106b664frow4_col2\" class=\"data row4 col2\" >23</td>\n",
       "                        <td id=\"T_e8acbc80_ba7a_11ea_9d16_70bc106b664frow4_col3\" class=\"data row4 col3\" >Male</td>\n",
       "                        <td id=\"T_e8acbc80_ba7a_11ea_9d16_70bc106b664frow4_col4\" class=\"data row4 col4\" >131</td>\n",
       "                        <td id=\"T_e8acbc80_ba7a_11ea_9d16_70bc106b664frow4_col5\" class=\"data row4 col5\" >Fury</td>\n",
       "                        <td id=\"T_e8acbc80_ba7a_11ea_9d16_70bc106b664frow4_col6\" class=\"data row4 col6\" >1.440000</td>\n",
       "                        <td id=\"T_e8acbc80_ba7a_11ea_9d16_70bc106b664frow4_col7\" class=\"data row4 col7\" >20-24</td>\n",
       "            </tr>\n",
       "    </tbody></table>"
      ],
      "text/plain": [
       "<pandas.io.formats.style.Styler at 0x25e09bc1888>"
      ]
     },
     "execution_count": 56,
     "metadata": {},
     "output_type": "execute_result"
    }
   ],
   "source": [
    "pymoli_df[\"Age Group\"] = pd.cut(pymoli_df[\"Age\"], bins, labels=group_labels)\n",
    "pymoli_df.head().style.hide_index()"
   ]
  },
  {
   "cell_type": "code",
   "execution_count": 57,
   "metadata": {},
   "outputs": [
    {
     "data": {
      "text/plain": [
       "Age Group\n",
       "<10       32\n",
       "10-14     54\n",
       "15-19    200\n",
       "20-24    325\n",
       "25-29     77\n",
       "30-34     52\n",
       "35-39     33\n",
       "40+        7\n",
       "Name: Purchase Count, dtype: int64"
      ]
     },
     "execution_count": 57,
     "metadata": {},
     "output_type": "execute_result"
    }
   ],
   "source": [
    "# GroupBy object based upon \"age group\" and perform calculations\n",
    "age_purchase_count = pymoli_df.groupby([\"Age Group\"]).count()[\"Age\"].rename(\"Purchase Count\")\n",
    "age_avg_price = pymoli_df.groupby([\"Age Group\"]).mean()[\"Price\"].rename(\"Average Purchase Price\")\n",
    "age_total_purchase = pymoli_df.groupby([\"Age Group\"]).sum()[\"Price\"].rename(\"Total Purchase Value\")\n",
    "\n",
    "age_purchase_count"
   ]
  },
  {
   "cell_type": "code",
   "execution_count": 58,
   "metadata": {},
   "outputs": [
    {
     "data": {
      "text/html": [
       "<div>\n",
       "<style scoped>\n",
       "    .dataframe tbody tr th:only-of-type {\n",
       "        vertical-align: middle;\n",
       "    }\n",
       "\n",
       "    .dataframe tbody tr th {\n",
       "        vertical-align: top;\n",
       "    }\n",
       "\n",
       "    .dataframe thead th {\n",
       "        text-align: right;\n",
       "    }\n",
       "</style>\n",
       "<table border=\"1\" class=\"dataframe\">\n",
       "  <thead>\n",
       "    <tr style=\"text-align: right;\">\n",
       "      <th></th>\n",
       "      <th>Purchase Count</th>\n",
       "      <th>Avg Purchase Price</th>\n",
       "      <th>Total Purchase Value</th>\n",
       "      <th>Avg Total Purchase per Person</th>\n",
       "    </tr>\n",
       "  </thead>\n",
       "  <tbody>\n",
       "    <tr>\n",
       "      <th>&lt;10</th>\n",
       "      <td>32</td>\n",
       "      <td>$3.40</td>\n",
       "      <td>$108.96</td>\n",
       "      <td>$3.40</td>\n",
       "    </tr>\n",
       "    <tr>\n",
       "      <th>10-14</th>\n",
       "      <td>54</td>\n",
       "      <td>$2.90</td>\n",
       "      <td>$156.60</td>\n",
       "      <td>$2.90</td>\n",
       "    </tr>\n",
       "    <tr>\n",
       "      <th>15-19</th>\n",
       "      <td>200</td>\n",
       "      <td>$3.11</td>\n",
       "      <td>$621.56</td>\n",
       "      <td>$3.11</td>\n",
       "    </tr>\n",
       "    <tr>\n",
       "      <th>20-24</th>\n",
       "      <td>325</td>\n",
       "      <td>$3.02</td>\n",
       "      <td>$981.64</td>\n",
       "      <td>$3.02</td>\n",
       "    </tr>\n",
       "    <tr>\n",
       "      <th>25-29</th>\n",
       "      <td>77</td>\n",
       "      <td>$2.88</td>\n",
       "      <td>$221.42</td>\n",
       "      <td>$2.88</td>\n",
       "    </tr>\n",
       "    <tr>\n",
       "      <th>30-34</th>\n",
       "      <td>52</td>\n",
       "      <td>$2.99</td>\n",
       "      <td>$155.71</td>\n",
       "      <td>$2.99</td>\n",
       "    </tr>\n",
       "    <tr>\n",
       "      <th>35-39</th>\n",
       "      <td>33</td>\n",
       "      <td>$3.40</td>\n",
       "      <td>$112.35</td>\n",
       "      <td>$3.40</td>\n",
       "    </tr>\n",
       "    <tr>\n",
       "      <th>40+</th>\n",
       "      <td>7</td>\n",
       "      <td>$3.08</td>\n",
       "      <td>$21.53</td>\n",
       "      <td>$3.08</td>\n",
       "    </tr>\n",
       "  </tbody>\n",
       "</table>\n",
       "</div>"
      ],
      "text/plain": [
       "      Purchase Count Avg Purchase Price Total Purchase Value  \\\n",
       "<10               32              $3.40              $108.96   \n",
       "10-14             54              $2.90              $156.60   \n",
       "15-19            200              $3.11              $621.56   \n",
       "20-24            325              $3.02              $981.64   \n",
       "25-29             77              $2.88              $221.42   \n",
       "30-34             52              $2.99              $155.71   \n",
       "35-39             33              $3.40              $112.35   \n",
       "40+                7              $3.08               $21.53   \n",
       "\n",
       "      Avg Total Purchase per Person  \n",
       "<10                           $3.40  \n",
       "10-14                         $2.90  \n",
       "15-19                         $3.11  \n",
       "20-24                         $3.02  \n",
       "25-29                         $2.88  \n",
       "30-34                         $2.99  \n",
       "35-39                         $3.40  \n",
       "40+                           $3.08  "
      ]
     },
     "execution_count": 58,
     "metadata": {},
     "output_type": "execute_result"
    }
   ],
   "source": [
    "#Calculate Age Analysis:\n",
    "purchase_count_under_ten = 32\n",
    "purchase_count_age10to14 = 54\n",
    "purchase_count_age15to19 = 200\n",
    "purchase_count_age20to24 = 325\n",
    "purchase_count_age25to29 = 77\n",
    "purchase_count_age30to34 = 52\n",
    "purchase_count_age35to39 = 33\n",
    "purchase_count_age40_older = 7\n",
    "\n",
    "\n",
    "avg_price_under_ten = age_avg_price[\"<10\"]\n",
    "avg_price_age10to14 = age_avg_price[\"10-14\"]\n",
    "avg_price_age15to19 = age_avg_price[\"15-19\"]\n",
    "avg_price_age20to24 = age_avg_price[\"20-24\"]\n",
    "avg_price_age25to29 = age_avg_price[\"25-29\"]\n",
    "avg_price_age30to34 = age_avg_price[\"30-34\"]\n",
    "avg_price_age35to39 = age_avg_price[\"35-39\"]\n",
    "avg_price_age40_older = age_avg_price[\"40+\"]\n",
    "\n",
    "age_total_purchase_under_ten = age_total_purchase[\"<10\"]\n",
    "age_total_purchase_age10to14 = age_total_purchase[\"10-14\"]\n",
    "age_total_purchase_age15to19 = age_total_purchase[\"15-19\"]\n",
    "age_total_purchase_age20to24 = age_total_purchase[\"20-24\"]\n",
    "age_total_purchase_age25to29 = age_total_purchase[\"25-29\"]\n",
    "age_total_purchase_age30to34 = age_total_purchase[\"30-34\"]\n",
    "age_total_purchase_age35to39 = age_total_purchase[\"35-39\"]\n",
    "age_total_purchase_age40_older = age_total_purchase[\"40+\"]\n",
    "\n",
    "avg_total_under_ten = age_total_purchase_under_ten / purchase_count_under_ten\n",
    "avg_total_age10to14 = age_total_purchase_age10to14 / purchase_count_age10to14\n",
    "avg_total_age15to19 = age_total_purchase_age15to19 / purchase_count_age15to19\n",
    "avg_total_age20to24 = age_total_purchase_age20to24 / purchase_count_age20to24\n",
    "avg_total_age25to29 = age_total_purchase_age25to29 / purchase_count_age25to29\n",
    "avg_total_age30to34 = age_total_purchase_age30to34 / purchase_count_age30to34\n",
    "avg_total_age35to39 = age_total_purchase_age35to39 / purchase_count_age35to39\n",
    "avg_total_age40_older = age_total_purchase_age40_older / purchase_count_age40_older\n",
    "\n",
    "#create age analysis data frame\n",
    "age_analysis = pd.DataFrame(columns = [\"Purchase Count\", \"Avg Purchase Price\", \"Total Purchase Value\",\n",
    "                                          \"Avg Total Purchase per Person\"], \n",
    "                             index = [\"<10\", \"10-14\", \"15-19\", \"20-24\", \"25-29\", \"30-34\",\n",
    "                \"35-39\", \"40+\"])\n",
    "\n",
    "age_analysis.loc[\"<10\"] = [purchase_count_under_ten, avg_price_under_ten, age_total_purchase_under_ten, avg_total_under_ten]\n",
    "age_analysis.loc[\"10-14\"] = [purchase_count_age10to14, avg_price_age10to14, age_total_purchase_age10to14, avg_total_age10to14]\n",
    "age_analysis.loc[\"15-19\"] = [purchase_count_age15to19, avg_price_age15to19, age_total_purchase_age15to19, avg_total_age15to19]\n",
    "age_analysis.loc[\"20-24\"] = [purchase_count_age20to24, avg_price_age20to24, age_total_purchase_age20to24, avg_total_age20to24]\n",
    "age_analysis.loc[\"25-29\"] = [purchase_count_age25to29, avg_price_age25to29, age_total_purchase_age25to29, avg_total_age25to29]\n",
    "age_analysis.loc[\"30-34\"] = [purchase_count_age30to34, avg_price_age30to34, age_total_purchase_age30to34, avg_total_age30to34]\n",
    "age_analysis.loc[\"35-39\"] = [purchase_count_age35to39, avg_price_age35to39, age_total_purchase_age35to39, avg_total_age35to39]\n",
    "age_analysis.loc[\"40+\"] = [purchase_count_age40_older, avg_price_age40_older, age_total_purchase_age40_older, avg_total_age40_older]\n",
    "\n",
    "#format and map\n",
    "age_analysis[\"Avg Purchase Price\"] = age_analysis[\"Avg Purchase Price\"].map('${:,.2f}'.format)\n",
    "age_analysis[\"Total Purchase Value\"] = age_analysis[\"Total Purchase Value\"].map('${:,.2f}'.format)\n",
    "age_analysis[\"Avg Total Purchase per Person\"] = age_analysis[\"Avg Total Purchase per Person\"].map('${:,.2f}'.format)\n",
    "\n",
    "age_analysis\n"
   ]
  },
  {
   "cell_type": "code",
   "execution_count": 59,
   "metadata": {},
   "outputs": [],
   "source": [
    "#groupby and perform calculations\n",
    "SN_purchase_count = pymoli_df.groupby([\"SN\"]).count()[\"Item ID\"].rename(\"Purchase Count\")\n",
    "SN_avg_price = pymoli_df.groupby([\"SN\"]).mean()[\"Price\"].rename(\"Average Purchase Price\")\n",
    "SN_total_purchase = pymoli_df.groupby([\"SN\"]).sum()[\"Price\"].rename(\"Total Purchase Value\")"
   ]
  },
  {
   "cell_type": "code",
   "execution_count": 60,
   "metadata": {},
   "outputs": [
    {
     "data": {
      "text/html": [
       "<div>\n",
       "<style scoped>\n",
       "    .dataframe tbody tr th:only-of-type {\n",
       "        vertical-align: middle;\n",
       "    }\n",
       "\n",
       "    .dataframe tbody tr th {\n",
       "        vertical-align: top;\n",
       "    }\n",
       "\n",
       "    .dataframe thead th {\n",
       "        text-align: right;\n",
       "    }\n",
       "</style>\n",
       "<table border=\"1\" class=\"dataframe\">\n",
       "  <thead>\n",
       "    <tr style=\"text-align: right;\">\n",
       "      <th></th>\n",
       "      <th>Purchase Count</th>\n",
       "      <th>Avg Purchase Price</th>\n",
       "      <th>Total Purchase Value</th>\n",
       "    </tr>\n",
       "    <tr>\n",
       "      <th>SN</th>\n",
       "      <th></th>\n",
       "      <th></th>\n",
       "      <th></th>\n",
       "    </tr>\n",
       "  </thead>\n",
       "  <tbody>\n",
       "    <tr>\n",
       "      <th>Lisosia93</th>\n",
       "      <td>5</td>\n",
       "      <td>$3.79</td>\n",
       "      <td>$18.96</td>\n",
       "    </tr>\n",
       "    <tr>\n",
       "      <th>Iral74</th>\n",
       "      <td>4</td>\n",
       "      <td>$3.40</td>\n",
       "      <td>$13.62</td>\n",
       "    </tr>\n",
       "    <tr>\n",
       "      <th>Idastidru52</th>\n",
       "      <td>4</td>\n",
       "      <td>$3.86</td>\n",
       "      <td>$15.45</td>\n",
       "    </tr>\n",
       "    <tr>\n",
       "      <th>Asur53</th>\n",
       "      <td>3</td>\n",
       "      <td>$2.48</td>\n",
       "      <td>$7.44</td>\n",
       "    </tr>\n",
       "    <tr>\n",
       "      <th>Inguron55</th>\n",
       "      <td>3</td>\n",
       "      <td>$3.70</td>\n",
       "      <td>$11.11</td>\n",
       "    </tr>\n",
       "  </tbody>\n",
       "</table>\n",
       "</div>"
      ],
      "text/plain": [
       "             Purchase Count Avg Purchase Price Total Purchase Value\n",
       "SN                                                                 \n",
       "Lisosia93                 5              $3.79               $18.96\n",
       "Iral74                    4              $3.40               $13.62\n",
       "Idastidru52               4              $3.86               $15.45\n",
       "Asur53                    3              $2.48                $7.44\n",
       "Inguron55                 3              $3.70               $11.11"
      ]
     },
     "execution_count": 60,
     "metadata": {},
     "output_type": "execute_result"
    }
   ],
   "source": [
    "#create data frame for top spenders by screen name\n",
    "SN_purchase_summary = pd.DataFrame({\"Purchase Count\": SN_purchase_count, \"Avg Purchase Price\": SN_avg_price, \n",
    "                                     \"Total Purchase Value\": SN_total_purchase})\n",
    "\n",
    "#format and map\n",
    "SN_purchase_summary[\"Avg Purchase Price\"] = SN_purchase_summary[\"Avg Purchase Price\"].map('${:,.2f}'.format)\n",
    "SN_purchase_summary[\"Total Purchase Value\"] = SN_purchase_summary[\"Total Purchase Value\"].map('${:,.2f}'.format)\n",
    "\n",
    "SN_purchase_summary.sort_values(by='Purchase Count', ascending=False).head(5)"
   ]
  },
  {
   "cell_type": "code",
   "execution_count": 89,
   "metadata": {},
   "outputs": [],
   "source": [
    "# GroupBy item ID and name and perform calculations\n",
    "item_purchase_count = pymoli_df.groupby([\"Item ID\"]).count()[\"Item Name\"].rename(\"Purchase Count\")\n",
    "item_price = pymoli_df.groupby([\"Item ID\"]).mean()[\"Price\"].rename(\"Item Price\")\n",
    "item_total_purchase = pymoli_df.groupby([\"Item ID\"]).sum()[\"Price\"].rename(\"Total Purchase Value\")\n"
   ]
  },
  {
   "cell_type": "code",
   "execution_count": 90,
   "metadata": {},
   "outputs": [],
   "source": [
    "#sort by most popular items\n",
    "items_summary = pd.DataFrame({\"Purchase Count\": item_purchase_count, \"Item Price\": item_price, \n",
    "                                     \"Total Purchase Value\": item_total_purchase})\n",
    "\n",
    "#items_summary = pd.merge(items_summary,pymoli_df[['Item ID', 'Item Name']],on='Item ID', how='inner')\n",
    "\n",
    "items_summary[\"Item Price\"] = items_summary[\"Item Price\"].map('${:,.2f}'.format)\n",
    "items_summary[\"Total Purchase Value\"] = items_summary[\"Total Purchase Value\"].map('${:,.2f}'.format)\n",
    "\n",
    "\n",
    "items_summary.sort_values(by='Purchase Count', ascending=False,inplace=True)"
   ]
  },
  {
   "cell_type": "code",
   "execution_count": 91,
   "metadata": {},
   "outputs": [
    {
     "data": {
      "text/html": [
       "<div>\n",
       "<style scoped>\n",
       "    .dataframe tbody tr th:only-of-type {\n",
       "        vertical-align: middle;\n",
       "    }\n",
       "\n",
       "    .dataframe tbody tr th {\n",
       "        vertical-align: top;\n",
       "    }\n",
       "\n",
       "    .dataframe thead th {\n",
       "        text-align: right;\n",
       "    }\n",
       "</style>\n",
       "<table border=\"1\" class=\"dataframe\">\n",
       "  <thead>\n",
       "    <tr style=\"text-align: right;\">\n",
       "      <th></th>\n",
       "      <th>Purchase Count</th>\n",
       "      <th>Item Price</th>\n",
       "      <th>Total Purchase Value</th>\n",
       "    </tr>\n",
       "    <tr>\n",
       "      <th>Item ID</th>\n",
       "      <th></th>\n",
       "      <th></th>\n",
       "      <th></th>\n",
       "    </tr>\n",
       "  </thead>\n",
       "  <tbody>\n",
       "    <tr>\n",
       "      <th>92</th>\n",
       "      <td>13</td>\n",
       "      <td>$4.61</td>\n",
       "      <td>$59.99</td>\n",
       "    </tr>\n",
       "    <tr>\n",
       "      <th>178</th>\n",
       "      <td>12</td>\n",
       "      <td>$4.23</td>\n",
       "      <td>$50.76</td>\n",
       "    </tr>\n",
       "    <tr>\n",
       "      <th>145</th>\n",
       "      <td>9</td>\n",
       "      <td>$4.58</td>\n",
       "      <td>$41.22</td>\n",
       "    </tr>\n",
       "    <tr>\n",
       "      <th>132</th>\n",
       "      <td>9</td>\n",
       "      <td>$3.22</td>\n",
       "      <td>$28.99</td>\n",
       "    </tr>\n",
       "    <tr>\n",
       "      <th>108</th>\n",
       "      <td>9</td>\n",
       "      <td>$3.53</td>\n",
       "      <td>$31.77</td>\n",
       "    </tr>\n",
       "  </tbody>\n",
       "</table>\n",
       "</div>"
      ],
      "text/plain": [
       "         Purchase Count Item Price Total Purchase Value\n",
       "Item ID                                                \n",
       "92                   13      $4.61               $59.99\n",
       "178                  12      $4.23               $50.76\n",
       "145                   9      $4.58               $41.22\n",
       "132                   9      $3.22               $28.99\n",
       "108                   9      $3.53               $31.77"
      ]
     },
     "execution_count": 91,
     "metadata": {},
     "output_type": "execute_result"
    }
   ],
   "source": [
    "items_summary.head()"
   ]
  },
  {
   "cell_type": "code",
   "execution_count": null,
   "metadata": {},
   "outputs": [],
   "source": [
    "#HOW TO GET ITEM NAME AND ID ON THE LEFT!!!!\n"
   ]
  },
  {
   "cell_type": "code",
   "execution_count": 38,
   "metadata": {},
   "outputs": [
    {
     "data": {
      "text/html": [
       "<div>\n",
       "<style scoped>\n",
       "    .dataframe tbody tr th:only-of-type {\n",
       "        vertical-align: middle;\n",
       "    }\n",
       "\n",
       "    .dataframe tbody tr th {\n",
       "        vertical-align: top;\n",
       "    }\n",
       "\n",
       "    .dataframe thead th {\n",
       "        text-align: right;\n",
       "    }\n",
       "</style>\n",
       "<table border=\"1\" class=\"dataframe\">\n",
       "  <thead>\n",
       "    <tr style=\"text-align: right;\">\n",
       "      <th></th>\n",
       "      <th>Purchase Count</th>\n",
       "      <th>Item Price</th>\n",
       "      <th>Total Purchase Value</th>\n",
       "    </tr>\n",
       "    <tr>\n",
       "      <th>Item ID</th>\n",
       "      <th></th>\n",
       "      <th></th>\n",
       "      <th></th>\n",
       "    </tr>\n",
       "  </thead>\n",
       "  <tbody>\n",
       "    <tr>\n",
       "      <th>63</th>\n",
       "      <td>2</td>\n",
       "      <td>$4.99</td>\n",
       "      <td>$9.98</td>\n",
       "    </tr>\n",
       "    <tr>\n",
       "      <th>29</th>\n",
       "      <td>5</td>\n",
       "      <td>$1.98</td>\n",
       "      <td>$9.90</td>\n",
       "    </tr>\n",
       "    <tr>\n",
       "      <th>173</th>\n",
       "      <td>2</td>\n",
       "      <td>$4.93</td>\n",
       "      <td>$9.86</td>\n",
       "    </tr>\n",
       "    <tr>\n",
       "      <th>38</th>\n",
       "      <td>4</td>\n",
       "      <td>$2.37</td>\n",
       "      <td>$9.48</td>\n",
       "    </tr>\n",
       "    <tr>\n",
       "      <th>143</th>\n",
       "      <td>6</td>\n",
       "      <td>$1.56</td>\n",
       "      <td>$9.36</td>\n",
       "    </tr>\n",
       "  </tbody>\n",
       "</table>\n",
       "</div>"
      ],
      "text/plain": [
       "         Purchase Count Item Price Total Purchase Value\n",
       "Item ID                                                \n",
       "63                    2      $4.99                $9.98\n",
       "29                    5      $1.98                $9.90\n",
       "173                   2      $4.93                $9.86\n",
       "38                    4      $2.37                $9.48\n",
       "143                   6      $1.56                $9.36"
      ]
     },
     "execution_count": 38,
     "metadata": {},
     "output_type": "execute_result"
    }
   ],
   "source": [
    "#sort by most profitable items\n",
    "items_summary.sort_values(by='Total Purchase Value', ascending=False).head(5)"
   ]
  },
  {
   "cell_type": "code",
   "execution_count": null,
   "metadata": {},
   "outputs": [],
   "source": []
  },
  {
   "cell_type": "code",
   "execution_count": null,
   "metadata": {},
   "outputs": [],
   "source": []
  },
  {
   "cell_type": "code",
   "execution_count": null,
   "metadata": {},
   "outputs": [],
   "source": []
  },
  {
   "cell_type": "code",
   "execution_count": null,
   "metadata": {},
   "outputs": [],
   "source": []
  }
 ],
 "metadata": {
  "kernelspec": {
   "display_name": "Python 3",
   "language": "python",
   "name": "python3"
  },
  "language_info": {
   "codemirror_mode": {
    "name": "ipython",
    "version": 3
   },
   "file_extension": ".py",
   "mimetype": "text/x-python",
   "name": "python",
   "nbconvert_exporter": "python",
   "pygments_lexer": "ipython3",
   "version": "3.7.6"
  }
 },
 "nbformat": 4,
 "nbformat_minor": 4
}
