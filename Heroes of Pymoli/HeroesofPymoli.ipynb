{
 "cells": [
  {
   "cell_type": "code",
   "execution_count": 22,
   "metadata": {},
   "outputs": [
    {
     "data": {
      "text/html": [
       "<style  type=\"text/css\" >\n",
       "</style><table id=\"T_b053a2c2_b887_11ea_a33d_70bc106b664f\" ><thead>    <tr>        <th class=\"col_heading level0 col0\" >Purchase ID</th>        <th class=\"col_heading level0 col1\" >SN</th>        <th class=\"col_heading level0 col2\" >Age</th>        <th class=\"col_heading level0 col3\" >Gender</th>        <th class=\"col_heading level0 col4\" >Item ID</th>        <th class=\"col_heading level0 col5\" >Item Name</th>        <th class=\"col_heading level0 col6\" >Price</th>    </tr></thead><tbody>\n",
       "                <tr>\n",
       "                                <td id=\"T_b053a2c2_b887_11ea_a33d_70bc106b664frow0_col0\" class=\"data row0 col0\" >0</td>\n",
       "                        <td id=\"T_b053a2c2_b887_11ea_a33d_70bc106b664frow0_col1\" class=\"data row0 col1\" >Lisim78</td>\n",
       "                        <td id=\"T_b053a2c2_b887_11ea_a33d_70bc106b664frow0_col2\" class=\"data row0 col2\" >20</td>\n",
       "                        <td id=\"T_b053a2c2_b887_11ea_a33d_70bc106b664frow0_col3\" class=\"data row0 col3\" >Male</td>\n",
       "                        <td id=\"T_b053a2c2_b887_11ea_a33d_70bc106b664frow0_col4\" class=\"data row0 col4\" >108</td>\n",
       "                        <td id=\"T_b053a2c2_b887_11ea_a33d_70bc106b664frow0_col5\" class=\"data row0 col5\" >Extraction, Quickblade Of Trembling Hands</td>\n",
       "                        <td id=\"T_b053a2c2_b887_11ea_a33d_70bc106b664frow0_col6\" class=\"data row0 col6\" >3.530000</td>\n",
       "            </tr>\n",
       "            <tr>\n",
       "                                <td id=\"T_b053a2c2_b887_11ea_a33d_70bc106b664frow1_col0\" class=\"data row1 col0\" >1</td>\n",
       "                        <td id=\"T_b053a2c2_b887_11ea_a33d_70bc106b664frow1_col1\" class=\"data row1 col1\" >Lisovynya38</td>\n",
       "                        <td id=\"T_b053a2c2_b887_11ea_a33d_70bc106b664frow1_col2\" class=\"data row1 col2\" >40</td>\n",
       "                        <td id=\"T_b053a2c2_b887_11ea_a33d_70bc106b664frow1_col3\" class=\"data row1 col3\" >Male</td>\n",
       "                        <td id=\"T_b053a2c2_b887_11ea_a33d_70bc106b664frow1_col4\" class=\"data row1 col4\" >143</td>\n",
       "                        <td id=\"T_b053a2c2_b887_11ea_a33d_70bc106b664frow1_col5\" class=\"data row1 col5\" >Frenzied Scimitar</td>\n",
       "                        <td id=\"T_b053a2c2_b887_11ea_a33d_70bc106b664frow1_col6\" class=\"data row1 col6\" >1.560000</td>\n",
       "            </tr>\n",
       "            <tr>\n",
       "                                <td id=\"T_b053a2c2_b887_11ea_a33d_70bc106b664frow2_col0\" class=\"data row2 col0\" >2</td>\n",
       "                        <td id=\"T_b053a2c2_b887_11ea_a33d_70bc106b664frow2_col1\" class=\"data row2 col1\" >Ithergue48</td>\n",
       "                        <td id=\"T_b053a2c2_b887_11ea_a33d_70bc106b664frow2_col2\" class=\"data row2 col2\" >24</td>\n",
       "                        <td id=\"T_b053a2c2_b887_11ea_a33d_70bc106b664frow2_col3\" class=\"data row2 col3\" >Male</td>\n",
       "                        <td id=\"T_b053a2c2_b887_11ea_a33d_70bc106b664frow2_col4\" class=\"data row2 col4\" >92</td>\n",
       "                        <td id=\"T_b053a2c2_b887_11ea_a33d_70bc106b664frow2_col5\" class=\"data row2 col5\" >Final Critic</td>\n",
       "                        <td id=\"T_b053a2c2_b887_11ea_a33d_70bc106b664frow2_col6\" class=\"data row2 col6\" >4.880000</td>\n",
       "            </tr>\n",
       "            <tr>\n",
       "                                <td id=\"T_b053a2c2_b887_11ea_a33d_70bc106b664frow3_col0\" class=\"data row3 col0\" >3</td>\n",
       "                        <td id=\"T_b053a2c2_b887_11ea_a33d_70bc106b664frow3_col1\" class=\"data row3 col1\" >Chamassasya86</td>\n",
       "                        <td id=\"T_b053a2c2_b887_11ea_a33d_70bc106b664frow3_col2\" class=\"data row3 col2\" >24</td>\n",
       "                        <td id=\"T_b053a2c2_b887_11ea_a33d_70bc106b664frow3_col3\" class=\"data row3 col3\" >Male</td>\n",
       "                        <td id=\"T_b053a2c2_b887_11ea_a33d_70bc106b664frow3_col4\" class=\"data row3 col4\" >100</td>\n",
       "                        <td id=\"T_b053a2c2_b887_11ea_a33d_70bc106b664frow3_col5\" class=\"data row3 col5\" >Blindscythe</td>\n",
       "                        <td id=\"T_b053a2c2_b887_11ea_a33d_70bc106b664frow3_col6\" class=\"data row3 col6\" >3.270000</td>\n",
       "            </tr>\n",
       "            <tr>\n",
       "                                <td id=\"T_b053a2c2_b887_11ea_a33d_70bc106b664frow4_col0\" class=\"data row4 col0\" >4</td>\n",
       "                        <td id=\"T_b053a2c2_b887_11ea_a33d_70bc106b664frow4_col1\" class=\"data row4 col1\" >Iskosia90</td>\n",
       "                        <td id=\"T_b053a2c2_b887_11ea_a33d_70bc106b664frow4_col2\" class=\"data row4 col2\" >23</td>\n",
       "                        <td id=\"T_b053a2c2_b887_11ea_a33d_70bc106b664frow4_col3\" class=\"data row4 col3\" >Male</td>\n",
       "                        <td id=\"T_b053a2c2_b887_11ea_a33d_70bc106b664frow4_col4\" class=\"data row4 col4\" >131</td>\n",
       "                        <td id=\"T_b053a2c2_b887_11ea_a33d_70bc106b664frow4_col5\" class=\"data row4 col5\" >Fury</td>\n",
       "                        <td id=\"T_b053a2c2_b887_11ea_a33d_70bc106b664frow4_col6\" class=\"data row4 col6\" >1.440000</td>\n",
       "            </tr>\n",
       "    </tbody></table>"
      ],
      "text/plain": [
       "<pandas.io.formats.style.Styler at 0x2f0c9e87608>"
      ]
     },
     "execution_count": 22,
     "metadata": {},
     "output_type": "execute_result"
    }
   ],
   "source": [
    "import pandas as pd\n",
    "\n",
    "# load the file\n",
    "pymoli = \"Resources/purchase_data.csv\"\n",
    "\n",
    "# Read Purchasing File and store into Pandas data frame\n",
    "pymoli_df = pd.read_csv(pymoli).dropna()\n",
    "pymoli_df.head().style.hide_index()"
   ]
  },
  {
   "cell_type": "code",
   "execution_count": 23,
   "metadata": {},
   "outputs": [
    {
     "data": {
      "text/html": [
       "<style  type=\"text/css\" >\n",
       "</style><table id=\"T_b079fdb6_b887_11ea_9d43_70bc106b664f\" ><thead>    <tr>        <th class=\"col_heading level0 col0\" >Total Players</th>    </tr></thead><tbody>\n",
       "                <tr>\n",
       "                                <td id=\"T_b079fdb6_b887_11ea_9d43_70bc106b664frow0_col0\" class=\"data row0 col0\" >576</td>\n",
       "            </tr>\n",
       "    </tbody></table>"
      ],
      "text/plain": [
       "<pandas.io.formats.style.Styler at 0x2f0c9dd5888>"
      ]
     },
     "execution_count": 23,
     "metadata": {},
     "output_type": "execute_result"
    }
   ],
   "source": [
    "# Create player demographics dataframe for later use\n",
    "demographics = pymoli_df[[\"Gender\", \"SN\", \"Age\"]].drop_duplicates()\n",
    "\n",
    "# Create player_count variable for later use\n",
    "player_count = pymoli_df[\"SN\"].nunique()\n",
    "\n",
    "total_players_df = pd.DataFrame({\"Total Players\": [player_count]}).style.hide_index()\n",
    "total_players_df"
   ]
  },
  {
   "cell_type": "code",
   "execution_count": 24,
   "metadata": {},
   "outputs": [
    {
     "data": {
      "text/plain": [
       "Purchase ID    780\n",
       "SN             780\n",
       "Age            780\n",
       "Gender         780\n",
       "Item ID        780\n",
       "Item Name      780\n",
       "Price          780\n",
       "dtype: int64"
      ]
     },
     "execution_count": 24,
     "metadata": {},
     "output_type": "execute_result"
    }
   ],
   "source": [
    "#check if there are incomplete rows\n",
    "pymoli_df.count()\n"
   ]
  },
  {
   "cell_type": "code",
   "execution_count": 25,
   "metadata": {},
   "outputs": [
    {
     "data": {
      "text/html": [
       "<div>\n",
       "<style scoped>\n",
       "    .dataframe tbody tr th:only-of-type {\n",
       "        vertical-align: middle;\n",
       "    }\n",
       "\n",
       "    .dataframe tbody tr th {\n",
       "        vertical-align: top;\n",
       "    }\n",
       "\n",
       "    .dataframe thead th {\n",
       "        text-align: right;\n",
       "    }\n",
       "</style>\n",
       "<table border=\"1\" class=\"dataframe\">\n",
       "  <thead>\n",
       "    <tr style=\"text-align: right;\">\n",
       "      <th></th>\n",
       "      <th>Number of Unique Items</th>\n",
       "      <th>Average Price</th>\n",
       "      <th>Number of Purchases</th>\n",
       "      <th>Total Revenue</th>\n",
       "    </tr>\n",
       "  </thead>\n",
       "  <tbody>\n",
       "    <tr>\n",
       "      <th>0</th>\n",
       "      <td>179</td>\n",
       "      <td>$3.05</td>\n",
       "      <td>780</td>\n",
       "      <td>$2,379.77</td>\n",
       "    </tr>\n",
       "  </tbody>\n",
       "</table>\n",
       "</div>"
      ],
      "text/plain": [
       "   Number of Unique Items Average Price  Number of Purchases Total Revenue\n",
       "0                     179         $3.05                  780     $2,379.77"
      ]
     },
     "execution_count": 25,
     "metadata": {},
     "output_type": "execute_result"
    }
   ],
   "source": [
    "#Purchasing Analysis (Total)\n",
    "unique_items = pymoli_df[\"Item ID\"].nunique()\n",
    "average_price = pymoli_df[\"Price\"].mean()\n",
    "number_purchases = pymoli_df[\"Purchase ID\"].nunique()\n",
    "total_revenue = pymoli_df[\"Price\"].sum()\n",
    "\n",
    "\n",
    "Values = pd.DataFrame({\"Number of Unique Items\": [unique_items], \n",
    "                       \"Average Price\": [average_price], \n",
    "                       \"Number of Purchases\": [number_purchases], \n",
    "                       \"Total Revenue\": [total_revenue]})\n",
    "\n",
    "Values[\"Average Price\"] = Values[\"Average Price\"].map('${:,.2f}'.format)\n",
    "Values[\"Total Revenue\"] = Values[\"Total Revenue\"].map('${:,.2f}'.format)\n",
    "\n",
    "Values\n",
    "\n"
   ]
  },
  {
   "cell_type": "code",
   "execution_count": 42,
   "metadata": {},
   "outputs": [
    {
     "data": {
      "text/plain": [
       "Male                     652\n",
       "Female                   113\n",
       "Other / Non-Disclosed     15\n",
       "Name: Gender, dtype: int64"
      ]
     },
     "execution_count": 42,
     "metadata": {},
     "output_type": "execute_result"
    }
   ],
   "source": [
    "#DEBUG VALUES ARE SLIGHTLY OFF FROM THE HOMEWORK!!!!!!!\n",
    "#Gender data frame, gives you purchase count by gender \n",
    "gender = pymoli_df[\"Gender\"].value_counts()\n",
    "gender"
   ]
  },
  {
   "cell_type": "code",
   "execution_count": 35,
   "metadata": {},
   "outputs": [
    {
     "data": {
      "text/html": [
       "<div>\n",
       "<style scoped>\n",
       "    .dataframe tbody tr th:only-of-type {\n",
       "        vertical-align: middle;\n",
       "    }\n",
       "\n",
       "    .dataframe tbody tr th {\n",
       "        vertical-align: top;\n",
       "    }\n",
       "\n",
       "    .dataframe thead th {\n",
       "        text-align: right;\n",
       "    }\n",
       "</style>\n",
       "<table border=\"1\" class=\"dataframe\">\n",
       "  <thead>\n",
       "    <tr style=\"text-align: right;\">\n",
       "      <th></th>\n",
       "      <th>Total Players</th>\n",
       "      <th>Percentage of Players</th>\n",
       "    </tr>\n",
       "  </thead>\n",
       "  <tbody>\n",
       "    <tr>\n",
       "      <th>Male</th>\n",
       "      <td>652</td>\n",
       "      <td>83.59%</td>\n",
       "    </tr>\n",
       "    <tr>\n",
       "      <th>Female</th>\n",
       "      <td>113</td>\n",
       "      <td>14.49%</td>\n",
       "    </tr>\n",
       "    <tr>\n",
       "      <th>Other / Non-Disclosed</th>\n",
       "      <td>15</td>\n",
       "      <td>1.92%</td>\n",
       "    </tr>\n",
       "  </tbody>\n",
       "</table>\n",
       "</div>"
      ],
      "text/plain": [
       "                      Total Players Percentage of Players\n",
       "Male                            652                83.59%\n",
       "Female                          113                14.49%\n",
       "Other / Non-Disclosed            15                 1.92%"
      ]
     },
     "execution_count": 35,
     "metadata": {},
     "output_type": "execute_result"
    }
   ],
   "source": [
    "#Gender Demographics\n",
    "percent_male_players = (652 / 780)*100\n",
    "count_male_players = 652\n",
    "percent_female_players = (113 / 780)*100\n",
    "count_female_players = 113\n",
    "percent_other_players = (15 / 780)*100\n",
    "count_other_players = 15\n",
    "\n",
    "#create gender values data frame\n",
    "gender_values = pd.DataFrame(columns = [\"Total Players\", \"Percentage of Players\"], \n",
    "                             index = [\"Male\", \"Female\", \"Other / Non-Disclosed\"])\n",
    "\n",
    "gender_values.loc[\"Male\"] = [count_male_players, percent_male_players]\n",
    "gender_values.loc[\"Female\"] = [count_female_players, percent_female_players]\n",
    "gender_values.loc[\"Other / Non-Disclosed\"] = [count_other_players, percent_other_players]\n",
    "\n",
    "\n",
    "gender_values[\"Percentage of Players\"] = gender_values[\"Percentage of Players\"].map('{:,.2f}%'.format)\n",
    "\n",
    "gender_values"
   ]
  },
  {
   "cell_type": "code",
   "execution_count": 38,
   "metadata": {},
   "outputs": [
    {
     "data": {
      "text/plain": [
       "Male                     652\n",
       "Female                   113\n",
       "Other / Non-Disclosed     15\n",
       "Name: Gender, dtype: int64"
      ]
     },
     "execution_count": 38,
     "metadata": {},
     "output_type": "execute_result"
    }
   ],
   "source": [
    "#Gender data frame, gives you purchase count by gender \n",
    "gender = pymoli_df[\"Gender\"].value_counts()\n",
    "gender"
   ]
  },
  {
   "cell_type": "code",
   "execution_count": 40,
   "metadata": {},
   "outputs": [
    {
     "data": {
      "text/html": [
       "<div>\n",
       "<style scoped>\n",
       "    .dataframe tbody tr th:only-of-type {\n",
       "        vertical-align: middle;\n",
       "    }\n",
       "\n",
       "    .dataframe tbody tr th {\n",
       "        vertical-align: top;\n",
       "    }\n",
       "\n",
       "    .dataframe thead th {\n",
       "        text-align: right;\n",
       "    }\n",
       "</style>\n",
       "<table border=\"1\" class=\"dataframe\">\n",
       "  <thead>\n",
       "    <tr style=\"text-align: right;\">\n",
       "      <th></th>\n",
       "      <th>Purchase Count</th>\n",
       "      <th>Avg Purchase Price</th>\n",
       "      <th>Total Purchaase Value</th>\n",
       "      <th>Avg Total Purchase per Person</th>\n",
       "    </tr>\n",
       "  </thead>\n",
       "  <tbody>\n",
       "    <tr>\n",
       "      <th>Gender</th>\n",
       "      <td>NaN</td>\n",
       "      <td>NaN</td>\n",
       "      <td>NaN</td>\n",
       "      <td>NaN</td>\n",
       "    </tr>\n",
       "    <tr>\n",
       "      <th>Male</th>\n",
       "      <td>652</td>\n",
       "      <td>0</td>\n",
       "      <td>0</td>\n",
       "      <td>0</td>\n",
       "    </tr>\n",
       "    <tr>\n",
       "      <th>Female</th>\n",
       "      <td>113</td>\n",
       "      <td>0</td>\n",
       "      <td>0</td>\n",
       "      <td>0</td>\n",
       "    </tr>\n",
       "    <tr>\n",
       "      <th>Other / Non-Disclosed</th>\n",
       "      <td>15</td>\n",
       "      <td>0</td>\n",
       "      <td>0</td>\n",
       "      <td>0</td>\n",
       "    </tr>\n",
       "  </tbody>\n",
       "</table>\n",
       "</div>"
      ],
      "text/plain": [
       "                      Purchase Count Avg Purchase Price Total Purchaase Value  \\\n",
       "Gender                           NaN                NaN                   NaN   \n",
       "Male                             652                  0                     0   \n",
       "Female                           113                  0                     0   \n",
       "Other / Non-Disclosed             15                  0                     0   \n",
       "\n",
       "                      Avg Total Purchase per Person  \n",
       "Gender                                          NaN  \n",
       "Male                                              0  \n",
       "Female                                            0  \n",
       "Other / Non-Disclosed                             0  "
      ]
     },
     "execution_count": 40,
     "metadata": {},
     "output_type": "execute_result"
    }
   ],
   "source": [
    "# Purchasing Analysis (Gender)\n",
    "purchase_count_male = 652\n",
    "purchase_count_female = 113\n",
    "purchase_count_other = 15\n",
    "#NEED TO FIGURE OUT HOW TO DO THE CALCULATIONS!!!!!!!!!!!\n",
    "avg_price_male = 0\n",
    "male_total_value = 0\n",
    "male_avg_total = 0\n",
    "avg_price_female = 0\n",
    "female_total_value = 0\n",
    "female_avg_total = 0\n",
    "avg_price_other = 0\n",
    "other_total_value = 0\n",
    "other_avg_total = 0\n",
    "\n",
    "\n",
    "\n",
    "purchase_summary = pd.DataFrame(columns = [\"Purchase Count\", \"Avg Purchase Price\", \n",
    "                                           \"Total Purchaase Value\", \"Avg Total Purchase per Person\"], \n",
    "                             index = [\"Gender\", \"Male\", \"Female\", \"Other / Non-Disclosed\"])\n",
    "#GET RID OF NAN IN GENDER ROW\n",
    "purchase_summary.loc[\"Male\"] = [purchase_count_male, avg_price_male, male_total_value, male_avg_total]\n",
    "purchase_summary.loc[\"Female\"] = [purchase_count_female, avg_price_female, female_total_value, female_avg_total]\n",
    "purchase_summary.loc[\"Other / Non-Disclosed\"] = [purchase_count_other, avg_price_other, \n",
    "                                                 other_total_value, other_avg_total]\n",
    "purchase_summary"
   ]
  },
  {
   "cell_type": "code",
   "execution_count": null,
   "metadata": {},
   "outputs": [],
   "source": []
  }
 ],
 "metadata": {
  "kernelspec": {
   "display_name": "Python 3",
   "language": "python",
   "name": "python3"
  },
  "language_info": {
   "codemirror_mode": {
    "name": "ipython",
    "version": 3
   },
   "file_extension": ".py",
   "mimetype": "text/x-python",
   "name": "python",
   "nbconvert_exporter": "python",
   "pygments_lexer": "ipython3",
   "version": "3.7.6"
  }
 },
 "nbformat": 4,
 "nbformat_minor": 4
}
