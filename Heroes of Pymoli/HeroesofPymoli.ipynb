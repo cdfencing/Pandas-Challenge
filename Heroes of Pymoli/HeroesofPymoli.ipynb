{
 "cells": [
  {
   "cell_type": "code",
   "execution_count": 150,
   "metadata": {},
   "outputs": [
    {
     "data": {
      "text/html": [
       "<style  type=\"text/css\" >\n",
       "</style><table id=\"T_06e06b0c_b8ab_11ea_8ff2_70bc106b664f\" ><thead>    <tr>        <th class=\"col_heading level0 col0\" >Purchase ID</th>        <th class=\"col_heading level0 col1\" >SN</th>        <th class=\"col_heading level0 col2\" >Age</th>        <th class=\"col_heading level0 col3\" >Gender</th>        <th class=\"col_heading level0 col4\" >Item ID</th>        <th class=\"col_heading level0 col5\" >Item Name</th>        <th class=\"col_heading level0 col6\" >Price</th>    </tr></thead><tbody>\n",
       "                <tr>\n",
       "                                <td id=\"T_06e06b0c_b8ab_11ea_8ff2_70bc106b664frow0_col0\" class=\"data row0 col0\" >0</td>\n",
       "                        <td id=\"T_06e06b0c_b8ab_11ea_8ff2_70bc106b664frow0_col1\" class=\"data row0 col1\" >Lisim78</td>\n",
       "                        <td id=\"T_06e06b0c_b8ab_11ea_8ff2_70bc106b664frow0_col2\" class=\"data row0 col2\" >20</td>\n",
       "                        <td id=\"T_06e06b0c_b8ab_11ea_8ff2_70bc106b664frow0_col3\" class=\"data row0 col3\" >Male</td>\n",
       "                        <td id=\"T_06e06b0c_b8ab_11ea_8ff2_70bc106b664frow0_col4\" class=\"data row0 col4\" >108</td>\n",
       "                        <td id=\"T_06e06b0c_b8ab_11ea_8ff2_70bc106b664frow0_col5\" class=\"data row0 col5\" >Extraction, Quickblade Of Trembling Hands</td>\n",
       "                        <td id=\"T_06e06b0c_b8ab_11ea_8ff2_70bc106b664frow0_col6\" class=\"data row0 col6\" >3.530000</td>\n",
       "            </tr>\n",
       "            <tr>\n",
       "                                <td id=\"T_06e06b0c_b8ab_11ea_8ff2_70bc106b664frow1_col0\" class=\"data row1 col0\" >1</td>\n",
       "                        <td id=\"T_06e06b0c_b8ab_11ea_8ff2_70bc106b664frow1_col1\" class=\"data row1 col1\" >Lisovynya38</td>\n",
       "                        <td id=\"T_06e06b0c_b8ab_11ea_8ff2_70bc106b664frow1_col2\" class=\"data row1 col2\" >40</td>\n",
       "                        <td id=\"T_06e06b0c_b8ab_11ea_8ff2_70bc106b664frow1_col3\" class=\"data row1 col3\" >Male</td>\n",
       "                        <td id=\"T_06e06b0c_b8ab_11ea_8ff2_70bc106b664frow1_col4\" class=\"data row1 col4\" >143</td>\n",
       "                        <td id=\"T_06e06b0c_b8ab_11ea_8ff2_70bc106b664frow1_col5\" class=\"data row1 col5\" >Frenzied Scimitar</td>\n",
       "                        <td id=\"T_06e06b0c_b8ab_11ea_8ff2_70bc106b664frow1_col6\" class=\"data row1 col6\" >1.560000</td>\n",
       "            </tr>\n",
       "            <tr>\n",
       "                                <td id=\"T_06e06b0c_b8ab_11ea_8ff2_70bc106b664frow2_col0\" class=\"data row2 col0\" >2</td>\n",
       "                        <td id=\"T_06e06b0c_b8ab_11ea_8ff2_70bc106b664frow2_col1\" class=\"data row2 col1\" >Ithergue48</td>\n",
       "                        <td id=\"T_06e06b0c_b8ab_11ea_8ff2_70bc106b664frow2_col2\" class=\"data row2 col2\" >24</td>\n",
       "                        <td id=\"T_06e06b0c_b8ab_11ea_8ff2_70bc106b664frow2_col3\" class=\"data row2 col3\" >Male</td>\n",
       "                        <td id=\"T_06e06b0c_b8ab_11ea_8ff2_70bc106b664frow2_col4\" class=\"data row2 col4\" >92</td>\n",
       "                        <td id=\"T_06e06b0c_b8ab_11ea_8ff2_70bc106b664frow2_col5\" class=\"data row2 col5\" >Final Critic</td>\n",
       "                        <td id=\"T_06e06b0c_b8ab_11ea_8ff2_70bc106b664frow2_col6\" class=\"data row2 col6\" >4.880000</td>\n",
       "            </tr>\n",
       "            <tr>\n",
       "                                <td id=\"T_06e06b0c_b8ab_11ea_8ff2_70bc106b664frow3_col0\" class=\"data row3 col0\" >3</td>\n",
       "                        <td id=\"T_06e06b0c_b8ab_11ea_8ff2_70bc106b664frow3_col1\" class=\"data row3 col1\" >Chamassasya86</td>\n",
       "                        <td id=\"T_06e06b0c_b8ab_11ea_8ff2_70bc106b664frow3_col2\" class=\"data row3 col2\" >24</td>\n",
       "                        <td id=\"T_06e06b0c_b8ab_11ea_8ff2_70bc106b664frow3_col3\" class=\"data row3 col3\" >Male</td>\n",
       "                        <td id=\"T_06e06b0c_b8ab_11ea_8ff2_70bc106b664frow3_col4\" class=\"data row3 col4\" >100</td>\n",
       "                        <td id=\"T_06e06b0c_b8ab_11ea_8ff2_70bc106b664frow3_col5\" class=\"data row3 col5\" >Blindscythe</td>\n",
       "                        <td id=\"T_06e06b0c_b8ab_11ea_8ff2_70bc106b664frow3_col6\" class=\"data row3 col6\" >3.270000</td>\n",
       "            </tr>\n",
       "            <tr>\n",
       "                                <td id=\"T_06e06b0c_b8ab_11ea_8ff2_70bc106b664frow4_col0\" class=\"data row4 col0\" >4</td>\n",
       "                        <td id=\"T_06e06b0c_b8ab_11ea_8ff2_70bc106b664frow4_col1\" class=\"data row4 col1\" >Iskosia90</td>\n",
       "                        <td id=\"T_06e06b0c_b8ab_11ea_8ff2_70bc106b664frow4_col2\" class=\"data row4 col2\" >23</td>\n",
       "                        <td id=\"T_06e06b0c_b8ab_11ea_8ff2_70bc106b664frow4_col3\" class=\"data row4 col3\" >Male</td>\n",
       "                        <td id=\"T_06e06b0c_b8ab_11ea_8ff2_70bc106b664frow4_col4\" class=\"data row4 col4\" >131</td>\n",
       "                        <td id=\"T_06e06b0c_b8ab_11ea_8ff2_70bc106b664frow4_col5\" class=\"data row4 col5\" >Fury</td>\n",
       "                        <td id=\"T_06e06b0c_b8ab_11ea_8ff2_70bc106b664frow4_col6\" class=\"data row4 col6\" >1.440000</td>\n",
       "            </tr>\n",
       "    </tbody></table>"
      ],
      "text/plain": [
       "<pandas.io.formats.style.Styler at 0x2f0ca388d88>"
      ]
     },
     "execution_count": 150,
     "metadata": {},
     "output_type": "execute_result"
    }
   ],
   "source": [
    "import pandas as pd\n",
    "\n",
    "# load the file\n",
    "pymoli = \"Resources/purchase_data.csv\"\n",
    "\n",
    "# Read Purchasing File and store into Pandas data frame\n",
    "pymoli_df = pd.read_csv(pymoli).dropna()\n",
    "pymoli_df.head().style.hide_index()"
   ]
  },
  {
   "cell_type": "code",
   "execution_count": 151,
   "metadata": {},
   "outputs": [
    {
     "data": {
      "text/html": [
       "<style  type=\"text/css\" >\n",
       "</style><table id=\"T_0818f508_b8ab_11ea_bf14_70bc106b664f\" ><thead>    <tr>        <th class=\"col_heading level0 col0\" >Total Players</th>    </tr></thead><tbody>\n",
       "                <tr>\n",
       "                                <td id=\"T_0818f508_b8ab_11ea_bf14_70bc106b664frow0_col0\" class=\"data row0 col0\" >576</td>\n",
       "            </tr>\n",
       "    </tbody></table>"
      ],
      "text/plain": [
       "<pandas.io.formats.style.Styler at 0x2f0ca39c148>"
      ]
     },
     "execution_count": 151,
     "metadata": {},
     "output_type": "execute_result"
    }
   ],
   "source": [
    "# Create player demographics dataframe for later use\n",
    "demographics = pymoli_df[[\"Gender\", \"SN\", \"Age\"]].drop_duplicates()\n",
    "\n",
    "# Create player_count variable for later use\n",
    "player_count = pymoli_df[\"SN\"].nunique()\n",
    "\n",
    "total_players_df = pd.DataFrame({\"Total Players\": [player_count]}).style.hide_index()\n",
    "total_players_df"
   ]
  },
  {
   "cell_type": "code",
   "execution_count": 152,
   "metadata": {},
   "outputs": [
    {
     "data": {
      "text/plain": [
       "Purchase ID    780\n",
       "SN             576\n",
       "Age             39\n",
       "Gender           3\n",
       "Item ID        179\n",
       "Item Name      179\n",
       "Price          145\n",
       "dtype: int64"
      ]
     },
     "execution_count": 152,
     "metadata": {},
     "output_type": "execute_result"
    }
   ],
   "source": [
    "#unique values core each category\n",
    "#note there are 780 purchase IDs but only 576 unique screen names(i.e. unique people that bought items)\n",
    "pymoli_df.nunique()\n"
   ]
  },
  {
   "cell_type": "code",
   "execution_count": 153,
   "metadata": {},
   "outputs": [
    {
     "data": {
      "text/html": [
       "<div>\n",
       "<style scoped>\n",
       "    .dataframe tbody tr th:only-of-type {\n",
       "        vertical-align: middle;\n",
       "    }\n",
       "\n",
       "    .dataframe tbody tr th {\n",
       "        vertical-align: top;\n",
       "    }\n",
       "\n",
       "    .dataframe thead th {\n",
       "        text-align: right;\n",
       "    }\n",
       "</style>\n",
       "<table border=\"1\" class=\"dataframe\">\n",
       "  <thead>\n",
       "    <tr style=\"text-align: right;\">\n",
       "      <th></th>\n",
       "      <th>Number of Unique Items</th>\n",
       "      <th>Average Price</th>\n",
       "      <th>Number of Purchases</th>\n",
       "      <th>Total Revenue</th>\n",
       "    </tr>\n",
       "  </thead>\n",
       "  <tbody>\n",
       "    <tr>\n",
       "      <th>0</th>\n",
       "      <td>179</td>\n",
       "      <td>$3.05</td>\n",
       "      <td>780</td>\n",
       "      <td>$2,379.77</td>\n",
       "    </tr>\n",
       "  </tbody>\n",
       "</table>\n",
       "</div>"
      ],
      "text/plain": [
       "   Number of Unique Items Average Price  Number of Purchases Total Revenue\n",
       "0                     179         $3.05                  780     $2,379.77"
      ]
     },
     "execution_count": 153,
     "metadata": {},
     "output_type": "execute_result"
    }
   ],
   "source": [
    "#Purchasing Analysis (Total)\n",
    "unique_items = pymoli_df[\"Item ID\"].nunique()\n",
    "average_price = pymoli_df[\"Price\"].mean()\n",
    "number_purchases = pymoli_df[\"Purchase ID\"].nunique()\n",
    "total_revenue = pymoli_df[\"Price\"].sum()\n",
    "\n",
    "\n",
    "Values = pd.DataFrame({\"Number of Unique Items\": [unique_items], \n",
    "                       \"Average Price\": [average_price], \n",
    "                       \"Number of Purchases\": [number_purchases], \n",
    "                       \"Total Revenue\": [total_revenue]})\n",
    "\n",
    "Values[\"Average Price\"] = Values[\"Average Price\"].map('${:,.2f}'.format)\n",
    "Values[\"Total Revenue\"] = Values[\"Total Revenue\"].map('${:,.2f}'.format)\n",
    "\n",
    "Values"
   ]
  },
  {
   "cell_type": "code",
   "execution_count": 154,
   "metadata": {},
   "outputs": [
    {
     "data": {
      "text/plain": [
       "Male                     484\n",
       "Female                    81\n",
       "Other / Non-Disclosed     11\n",
       "Name: Gender, dtype: int64"
      ]
     },
     "execution_count": 154,
     "metadata": {},
     "output_type": "execute_result"
    }
   ],
   "source": [
    "#Gender data frame, gives you purchase count by gender\n",
    "#this data frame has no duplicates \n",
    "gender = demographics[\"Gender\"].value_counts()\n",
    "gender"
   ]
  },
  {
   "cell_type": "code",
   "execution_count": 155,
   "metadata": {},
   "outputs": [
    {
     "data": {
      "text/html": [
       "<div>\n",
       "<style scoped>\n",
       "    .dataframe tbody tr th:only-of-type {\n",
       "        vertical-align: middle;\n",
       "    }\n",
       "\n",
       "    .dataframe tbody tr th {\n",
       "        vertical-align: top;\n",
       "    }\n",
       "\n",
       "    .dataframe thead th {\n",
       "        text-align: right;\n",
       "    }\n",
       "</style>\n",
       "<table border=\"1\" class=\"dataframe\">\n",
       "  <thead>\n",
       "    <tr style=\"text-align: right;\">\n",
       "      <th></th>\n",
       "      <th>Total Players</th>\n",
       "      <th>Percentage of Players</th>\n",
       "    </tr>\n",
       "  </thead>\n",
       "  <tbody>\n",
       "    <tr>\n",
       "      <th>Male</th>\n",
       "      <td>484</td>\n",
       "      <td>84.03%</td>\n",
       "    </tr>\n",
       "    <tr>\n",
       "      <th>Female</th>\n",
       "      <td>81</td>\n",
       "      <td>14.06%</td>\n",
       "    </tr>\n",
       "    <tr>\n",
       "      <th>Other / Non-Disclosed</th>\n",
       "      <td>11</td>\n",
       "      <td>1.91%</td>\n",
       "    </tr>\n",
       "  </tbody>\n",
       "</table>\n",
       "</div>"
      ],
      "text/plain": [
       "                      Total Players Percentage of Players\n",
       "Male                            484                84.03%\n",
       "Female                           81                14.06%\n",
       "Other / Non-Disclosed            11                 1.91%"
      ]
     },
     "execution_count": 155,
     "metadata": {},
     "output_type": "execute_result"
    }
   ],
   "source": [
    "#Gender Demographics\n",
    "percent_male_players = (484 / 576)*100\n",
    "count_male_players = 484\n",
    "percent_female_players = (81 / 576)*100\n",
    "count_female_players = 81\n",
    "percent_other_players = (11 / 576)*100\n",
    "count_other_players = 11\n",
    "\n",
    "#create gender values data frame\n",
    "gender_values = pd.DataFrame(columns = [\"Total Players\", \"Percentage of Players\"], \n",
    "                             index = [\"Male\", \"Female\", \"Other / Non-Disclosed\"])\n",
    "\n",
    "gender_values.loc[\"Male\"] = [count_male_players, percent_male_players]\n",
    "gender_values.loc[\"Female\"] = [count_female_players, percent_female_players]\n",
    "gender_values.loc[\"Other / Non-Disclosed\"] = [count_other_players, percent_other_players]\n",
    "\n",
    "gender_values[\"Percentage of Players\"] = gender_values[\"Percentage of Players\"].map('{:,.2f}%'.format)\n",
    "\n",
    "gender_values"
   ]
  },
  {
   "cell_type": "code",
   "execution_count": 156,
   "metadata": {},
   "outputs": [
    {
     "data": {
      "text/plain": [
       "Male                     652\n",
       "Female                   113\n",
       "Other / Non-Disclosed     15\n",
       "Name: Gender, dtype: int64"
      ]
     },
     "execution_count": 156,
     "metadata": {},
     "output_type": "execute_result"
    }
   ],
   "source": [
    "#Gender purchase count data frame, gives you purchase count by gender including duplicates\n",
    "gender_count = pymoli_df[\"Gender\"].value_counts()\n",
    "gender_count"
   ]
  },
  {
   "cell_type": "code",
   "execution_count": 157,
   "metadata": {},
   "outputs": [],
   "source": [
    "#groupby and perform calculations\n",
    "gender_purchase_total = pymoli_df.groupby([\"Gender\"]).sum()[\"Price\"].rename(\"Total Purchase Value\")\n",
    "\n",
    "gender_avg_price = pymoli_df.groupby([\"Gender\"]).mean()[\"Price\"].rename(\"Average Purchase Price\")"
   ]
  },
  {
   "cell_type": "code",
   "execution_count": 158,
   "metadata": {},
   "outputs": [],
   "source": [
    "#calculations for summary table\n",
    "purchase_count_male = 652\n",
    "purchase_count_female = 113\n",
    "purchase_count_other = 15\n",
    "avg_price_male = gender_avg_price[\"Male\"]\n",
    "male_total_value = gender_purchase_total[\"Male\"]\n",
    "male_avg_total = male_total_value / count_male_players\n",
    "avg_price_female = gender_avg_price[\"Female\"]\n",
    "female_total_value = gender_purchase_total[\"Female\"]\n",
    "female_avg_total = female_total_value / count_female_players\n",
    "avg_price_other = gender_avg_price[\"Other / Non-Disclosed\"]\n",
    "other_total_value = gender_purchase_total[\"Other / Non-Disclosed\"]\n",
    "other_avg_total = other_total_value / count_other_players\n"
   ]
  },
  {
   "cell_type": "code",
   "execution_count": 163,
   "metadata": {},
   "outputs": [
    {
     "data": {
      "text/html": [
       "<div>\n",
       "<style scoped>\n",
       "    .dataframe tbody tr th:only-of-type {\n",
       "        vertical-align: middle;\n",
       "    }\n",
       "\n",
       "    .dataframe tbody tr th {\n",
       "        vertical-align: top;\n",
       "    }\n",
       "\n",
       "    .dataframe thead th {\n",
       "        text-align: right;\n",
       "    }\n",
       "</style>\n",
       "<table border=\"1\" class=\"dataframe\">\n",
       "  <thead>\n",
       "    <tr style=\"text-align: right;\">\n",
       "      <th></th>\n",
       "      <th>Purchase Count</th>\n",
       "      <th>Avg Purchase Price</th>\n",
       "      <th>Total Purchase Value</th>\n",
       "      <th>Avg Total Purchase per Person</th>\n",
       "    </tr>\n",
       "  </thead>\n",
       "  <tbody>\n",
       "    <tr>\n",
       "      <th>Male</th>\n",
       "      <td>652</td>\n",
       "      <td>$3.02</td>\n",
       "      <td>$1,967.64</td>\n",
       "      <td>$4.07</td>\n",
       "    </tr>\n",
       "    <tr>\n",
       "      <th>Female</th>\n",
       "      <td>113</td>\n",
       "      <td>$3.20</td>\n",
       "      <td>$361.94</td>\n",
       "      <td>$4.47</td>\n",
       "    </tr>\n",
       "    <tr>\n",
       "      <th>Other / Non-Disclosed</th>\n",
       "      <td>15</td>\n",
       "      <td>$3.35</td>\n",
       "      <td>$50.19</td>\n",
       "      <td>$4.56</td>\n",
       "    </tr>\n",
       "  </tbody>\n",
       "</table>\n",
       "</div>"
      ],
      "text/plain": [
       "                      Purchase Count Avg Purchase Price Total Purchase Value  \\\n",
       "Male                             652              $3.02            $1,967.64   \n",
       "Female                           113              $3.20              $361.94   \n",
       "Other / Non-Disclosed             15              $3.35               $50.19   \n",
       "\n",
       "                      Avg Total Purchase per Person  \n",
       "Male                                          $4.07  \n",
       "Female                                        $4.47  \n",
       "Other / Non-Disclosed                         $4.56  "
      ]
     },
     "execution_count": 163,
     "metadata": {},
     "output_type": "execute_result"
    }
   ],
   "source": [
    "# Purchasing Analysis (Gender)\n",
    "\n",
    "purchase_summary = pd.DataFrame(columns = [\"Purchase Count\", \"Avg Purchase Price\", \n",
    "                                           \"Total Purchase Value\", \"Avg Total Purchase per Person\"], \n",
    "                             index = [\"Male\", \"Female\", \"Other / Non-Disclosed\"])\n",
    "\n",
    "purchase_summary.loc[\"Male\"] = [purchase_count_male, avg_price_male, male_total_value, male_avg_total]\n",
    "purchase_summary.loc[\"Female\"] = [purchase_count_female, avg_price_female, female_total_value, female_avg_total]\n",
    "purchase_summary.loc[\"Other / Non-Disclosed\"] = [purchase_count_other, avg_price_other, \n",
    "                                                 other_total_value, other_avg_total]\n",
    "\n",
    "#format and map\n",
    "purchase_summary[\"Avg Purchase Price\"] = purchase_summary[\"Avg Purchase Price\"].map('${:,.2f}'.format)\n",
    "purchase_summary[\"Total Purchase Value\"] = purchase_summary[\"Total Purchase Value\"].map('${:,.2f}'.format)\n",
    "purchase_summary[\"Avg Total Purchase per Person\"] = purchase_summary[\"Avg Total Purchase per Person\"].map('${:,.2f}'.format)\n",
    "\n",
    "purchase_summary"
   ]
  },
  {
   "cell_type": "code",
   "execution_count": 177,
   "metadata": {},
   "outputs": [
    {
     "data": {
      "text/plain": [
       "0    15-19\n",
       "1    35-39\n",
       "2    20-24\n",
       "3    20-24\n",
       "4    20-24\n",
       "Name: Age, dtype: category\n",
       "Categories (8, object): [<10 < 10-14 < 15-19 < 20-24 < 25-29 < 30-34 < 35-39 < 40+]"
      ]
     },
     "execution_count": 177,
     "metadata": {},
     "output_type": "execute_result"
    }
   ],
   "source": [
    "#Age Demographics\n",
    "\n",
    "# Create bins for ages\n",
    "bins = [0, 10, 15, 20, 25, 30, 35, 40, 125]\n",
    "\n",
    "# Create labels for these bins\n",
    "group_labels = [\"<10\", \"10-14\", \"15-19\", \"20-24\", \"25-29\", \"30-34\",\n",
    "                \"35-39\", \"40+\"]\n",
    "    \n",
    "    \n",
    "# Slice the data and place it into bins\n",
    "pd.cut(pymoli_df[\"Age\"], bins, labels=group_labels).head()"
   ]
  },
  {
   "cell_type": "code",
   "execution_count": 178,
   "metadata": {},
   "outputs": [
    {
     "data": {
      "text/html": [
       "<style  type=\"text/css\" >\n",
       "</style><table id=\"T_0c5aeaf8_b958_11ea_94d8_70bc106b664f\" ><thead>    <tr>        <th class=\"col_heading level0 col0\" >Purchase ID</th>        <th class=\"col_heading level0 col1\" >SN</th>        <th class=\"col_heading level0 col2\" >Age</th>        <th class=\"col_heading level0 col3\" >Gender</th>        <th class=\"col_heading level0 col4\" >Item ID</th>        <th class=\"col_heading level0 col5\" >Item Name</th>        <th class=\"col_heading level0 col6\" >Price</th>        <th class=\"col_heading level0 col7\" >Age Group</th>    </tr></thead><tbody>\n",
       "                <tr>\n",
       "                                <td id=\"T_0c5aeaf8_b958_11ea_94d8_70bc106b664frow0_col0\" class=\"data row0 col0\" >0</td>\n",
       "                        <td id=\"T_0c5aeaf8_b958_11ea_94d8_70bc106b664frow0_col1\" class=\"data row0 col1\" >Lisim78</td>\n",
       "                        <td id=\"T_0c5aeaf8_b958_11ea_94d8_70bc106b664frow0_col2\" class=\"data row0 col2\" >20</td>\n",
       "                        <td id=\"T_0c5aeaf8_b958_11ea_94d8_70bc106b664frow0_col3\" class=\"data row0 col3\" >Male</td>\n",
       "                        <td id=\"T_0c5aeaf8_b958_11ea_94d8_70bc106b664frow0_col4\" class=\"data row0 col4\" >108</td>\n",
       "                        <td id=\"T_0c5aeaf8_b958_11ea_94d8_70bc106b664frow0_col5\" class=\"data row0 col5\" >Extraction, Quickblade Of Trembling Hands</td>\n",
       "                        <td id=\"T_0c5aeaf8_b958_11ea_94d8_70bc106b664frow0_col6\" class=\"data row0 col6\" >3.530000</td>\n",
       "                        <td id=\"T_0c5aeaf8_b958_11ea_94d8_70bc106b664frow0_col7\" class=\"data row0 col7\" >15-19</td>\n",
       "            </tr>\n",
       "            <tr>\n",
       "                                <td id=\"T_0c5aeaf8_b958_11ea_94d8_70bc106b664frow1_col0\" class=\"data row1 col0\" >1</td>\n",
       "                        <td id=\"T_0c5aeaf8_b958_11ea_94d8_70bc106b664frow1_col1\" class=\"data row1 col1\" >Lisovynya38</td>\n",
       "                        <td id=\"T_0c5aeaf8_b958_11ea_94d8_70bc106b664frow1_col2\" class=\"data row1 col2\" >40</td>\n",
       "                        <td id=\"T_0c5aeaf8_b958_11ea_94d8_70bc106b664frow1_col3\" class=\"data row1 col3\" >Male</td>\n",
       "                        <td id=\"T_0c5aeaf8_b958_11ea_94d8_70bc106b664frow1_col4\" class=\"data row1 col4\" >143</td>\n",
       "                        <td id=\"T_0c5aeaf8_b958_11ea_94d8_70bc106b664frow1_col5\" class=\"data row1 col5\" >Frenzied Scimitar</td>\n",
       "                        <td id=\"T_0c5aeaf8_b958_11ea_94d8_70bc106b664frow1_col6\" class=\"data row1 col6\" >1.560000</td>\n",
       "                        <td id=\"T_0c5aeaf8_b958_11ea_94d8_70bc106b664frow1_col7\" class=\"data row1 col7\" >35-39</td>\n",
       "            </tr>\n",
       "            <tr>\n",
       "                                <td id=\"T_0c5aeaf8_b958_11ea_94d8_70bc106b664frow2_col0\" class=\"data row2 col0\" >2</td>\n",
       "                        <td id=\"T_0c5aeaf8_b958_11ea_94d8_70bc106b664frow2_col1\" class=\"data row2 col1\" >Ithergue48</td>\n",
       "                        <td id=\"T_0c5aeaf8_b958_11ea_94d8_70bc106b664frow2_col2\" class=\"data row2 col2\" >24</td>\n",
       "                        <td id=\"T_0c5aeaf8_b958_11ea_94d8_70bc106b664frow2_col3\" class=\"data row2 col3\" >Male</td>\n",
       "                        <td id=\"T_0c5aeaf8_b958_11ea_94d8_70bc106b664frow2_col4\" class=\"data row2 col4\" >92</td>\n",
       "                        <td id=\"T_0c5aeaf8_b958_11ea_94d8_70bc106b664frow2_col5\" class=\"data row2 col5\" >Final Critic</td>\n",
       "                        <td id=\"T_0c5aeaf8_b958_11ea_94d8_70bc106b664frow2_col6\" class=\"data row2 col6\" >4.880000</td>\n",
       "                        <td id=\"T_0c5aeaf8_b958_11ea_94d8_70bc106b664frow2_col7\" class=\"data row2 col7\" >20-24</td>\n",
       "            </tr>\n",
       "            <tr>\n",
       "                                <td id=\"T_0c5aeaf8_b958_11ea_94d8_70bc106b664frow3_col0\" class=\"data row3 col0\" >3</td>\n",
       "                        <td id=\"T_0c5aeaf8_b958_11ea_94d8_70bc106b664frow3_col1\" class=\"data row3 col1\" >Chamassasya86</td>\n",
       "                        <td id=\"T_0c5aeaf8_b958_11ea_94d8_70bc106b664frow3_col2\" class=\"data row3 col2\" >24</td>\n",
       "                        <td id=\"T_0c5aeaf8_b958_11ea_94d8_70bc106b664frow3_col3\" class=\"data row3 col3\" >Male</td>\n",
       "                        <td id=\"T_0c5aeaf8_b958_11ea_94d8_70bc106b664frow3_col4\" class=\"data row3 col4\" >100</td>\n",
       "                        <td id=\"T_0c5aeaf8_b958_11ea_94d8_70bc106b664frow3_col5\" class=\"data row3 col5\" >Blindscythe</td>\n",
       "                        <td id=\"T_0c5aeaf8_b958_11ea_94d8_70bc106b664frow3_col6\" class=\"data row3 col6\" >3.270000</td>\n",
       "                        <td id=\"T_0c5aeaf8_b958_11ea_94d8_70bc106b664frow3_col7\" class=\"data row3 col7\" >20-24</td>\n",
       "            </tr>\n",
       "            <tr>\n",
       "                                <td id=\"T_0c5aeaf8_b958_11ea_94d8_70bc106b664frow4_col0\" class=\"data row4 col0\" >4</td>\n",
       "                        <td id=\"T_0c5aeaf8_b958_11ea_94d8_70bc106b664frow4_col1\" class=\"data row4 col1\" >Iskosia90</td>\n",
       "                        <td id=\"T_0c5aeaf8_b958_11ea_94d8_70bc106b664frow4_col2\" class=\"data row4 col2\" >23</td>\n",
       "                        <td id=\"T_0c5aeaf8_b958_11ea_94d8_70bc106b664frow4_col3\" class=\"data row4 col3\" >Male</td>\n",
       "                        <td id=\"T_0c5aeaf8_b958_11ea_94d8_70bc106b664frow4_col4\" class=\"data row4 col4\" >131</td>\n",
       "                        <td id=\"T_0c5aeaf8_b958_11ea_94d8_70bc106b664frow4_col5\" class=\"data row4 col5\" >Fury</td>\n",
       "                        <td id=\"T_0c5aeaf8_b958_11ea_94d8_70bc106b664frow4_col6\" class=\"data row4 col6\" >1.440000</td>\n",
       "                        <td id=\"T_0c5aeaf8_b958_11ea_94d8_70bc106b664frow4_col7\" class=\"data row4 col7\" >20-24</td>\n",
       "            </tr>\n",
       "    </tbody></table>"
      ],
      "text/plain": [
       "<pandas.io.formats.style.Styler at 0x2f0ca3ae448>"
      ]
     },
     "execution_count": 178,
     "metadata": {},
     "output_type": "execute_result"
    }
   ],
   "source": [
    "pymoli_df[\"Age Group\"] = pd.cut(pymoli_df[\"Age\"], bins, labels=group_labels)\n",
    "pymoli_df.head().style.hide_index()"
   ]
  },
  {
   "cell_type": "code",
   "execution_count": 201,
   "metadata": {},
   "outputs": [
    {
     "data": {
      "text/plain": [
       "Age Group\n",
       "<10       32\n",
       "10-14     54\n",
       "15-19    200\n",
       "20-24    325\n",
       "25-29     77\n",
       "30-34     52\n",
       "35-39     33\n",
       "40+        7\n",
       "Name: Total Count, dtype: int64"
      ]
     },
     "execution_count": 201,
     "metadata": {},
     "output_type": "execute_result"
    }
   ],
   "source": [
    "# Create a GroupBy object based upon \"group\" and count number in each age group\n",
    "age_total_count = pymoli_df.groupby([\"Age Group\"]).count()[\"Age\"].rename(\"Total Count\")\n",
    "age_total_count"
   ]
  },
  {
   "cell_type": "code",
   "execution_count": 202,
   "metadata": {},
   "outputs": [],
   "source": [
    "#DEBUG, NUMBERS ARE NOT CORRECT, SHOULD BE 17 PEOPLE <10\n"
   ]
  },
  {
   "cell_type": "code",
   "execution_count": 200,
   "metadata": {},
   "outputs": [
    {
     "data": {
      "text/html": [
       "<div>\n",
       "<style scoped>\n",
       "    .dataframe tbody tr th:only-of-type {\n",
       "        vertical-align: middle;\n",
       "    }\n",
       "\n",
       "    .dataframe tbody tr th {\n",
       "        vertical-align: top;\n",
       "    }\n",
       "\n",
       "    .dataframe thead th {\n",
       "        text-align: right;\n",
       "    }\n",
       "</style>\n",
       "<table border=\"1\" class=\"dataframe\">\n",
       "  <thead>\n",
       "    <tr style=\"text-align: right;\">\n",
       "      <th></th>\n",
       "      <th>Total Count</th>\n",
       "      <th>Percentage of Players</th>\n",
       "    </tr>\n",
       "  </thead>\n",
       "  <tbody>\n",
       "    <tr>\n",
       "      <th>&lt;10</th>\n",
       "      <td>32</td>\n",
       "      <td>5.56%</td>\n",
       "    </tr>\n",
       "    <tr>\n",
       "      <th>10-14</th>\n",
       "      <td>54</td>\n",
       "      <td>9.38%</td>\n",
       "    </tr>\n",
       "    <tr>\n",
       "      <th>15-19</th>\n",
       "      <td>200</td>\n",
       "      <td>34.72%</td>\n",
       "    </tr>\n",
       "    <tr>\n",
       "      <th>20-24</th>\n",
       "      <td>325</td>\n",
       "      <td>56.42%</td>\n",
       "    </tr>\n",
       "    <tr>\n",
       "      <th>25-29</th>\n",
       "      <td>77</td>\n",
       "      <td>77.00%</td>\n",
       "    </tr>\n",
       "    <tr>\n",
       "      <th>30-34</th>\n",
       "      <td>52</td>\n",
       "      <td>9.03%</td>\n",
       "    </tr>\n",
       "    <tr>\n",
       "      <th>35-39</th>\n",
       "      <td>33</td>\n",
       "      <td>5.73%</td>\n",
       "    </tr>\n",
       "    <tr>\n",
       "      <th>40+</th>\n",
       "      <td>7</td>\n",
       "      <td>1.22%</td>\n",
       "    </tr>\n",
       "  </tbody>\n",
       "</table>\n",
       "</div>"
      ],
      "text/plain": [
       "      Total Count Percentage of Players\n",
       "<10            32                 5.56%\n",
       "10-14          54                 9.38%\n",
       "15-19         200                34.72%\n",
       "20-24         325                56.42%\n",
       "25-29          77                77.00%\n",
       "30-34          52                 9.03%\n",
       "35-39          33                 5.73%\n",
       "40+             7                 1.22%"
      ]
     },
     "execution_count": 200,
     "metadata": {},
     "output_type": "execute_result"
    }
   ],
   "source": [
    "#Calculate Age Demographics totals and percentages:\n",
    "under_ten_total = age_total_count[\"<10\"]\n",
    "age10to14_total = age_total_count[\"10-14\"]\n",
    "age15to19_total = age_total_count[\"15-19\"]\n",
    "age20to24_total = age_total_count[\"20-24\"]\n",
    "age25to29_total = age_total_count[\"25-29\"]\n",
    "age30to34_total = age_total_count[\"30-34\"]\n",
    "age35to39_total = age_total_count[\"35-39\"]\n",
    "age40_older_total = age_total_count[\"40+\"]\n",
    "\n",
    "percent_under_ten = (32 / 576)*100\n",
    "percent_10to14 = (54 / 576)*100\n",
    "percent_15to19 = (200 / 576)*100\n",
    "percent_20to24 = (325 / 576)*100\n",
    "percent_25to29 = (77 / 576)*100\n",
    "percent_30to34 = (52 / 576)*100\n",
    "percent_35to39 = (33 / 576)*100\n",
    "percent_40_older = (7 / 576)*100\n",
    "\n",
    "#create age demographic data frame\n",
    "age_demographics = pd.DataFrame(columns = [\"Total Count\", \"Percentage of Players\"], \n",
    "                             index = [\"<10\", \"10-14\", \"15-19\", \"20-24\", \"25-29\", \"30-34\",\n",
    "                \"35-39\", \"40+\"])\n",
    "\n",
    "age_demographics.loc[\"<10\"] = [under_ten_total, percent_under_ten]\n",
    "age_demographics.loc[\"10-14\"] = [age10to14_total, percent_10to14]\n",
    "age_demographics.loc[\"15-19\"] = [age15to19_total, percent_15to19]\n",
    "age_demographics.loc[\"20-24\"] = [age20to24_total, percent_20to24]\n",
    "age_demographics.loc[\"25-29\"] = [age25to29_total, age25to29_total]\n",
    "age_demographics.loc[\"30-34\"] = [age30to34_total, percent_30to34]\n",
    "age_demographics.loc[\"35-39\"] = [age35to39_total, percent_35to39]\n",
    "age_demographics.loc[\"40+\"] = [age40_older_total, percent_40_older]\n",
    "\n",
    "#format and map\n",
    "age_demographics[\"Percentage of Players\"] = age_demographics[\"Percentage of Players\"].map('{:,.2f}%'.format)\n",
    "\n",
    "age_demographics\n"
   ]
  },
  {
   "cell_type": "code",
   "execution_count": null,
   "metadata": {},
   "outputs": [],
   "source": []
  },
  {
   "cell_type": "code",
   "execution_count": null,
   "metadata": {},
   "outputs": [],
   "source": []
  }
 ],
 "metadata": {
  "kernelspec": {
   "display_name": "Python 3",
   "language": "python",
   "name": "python3"
  },
  "language_info": {
   "codemirror_mode": {
    "name": "ipython",
    "version": 3
   },
   "file_extension": ".py",
   "mimetype": "text/x-python",
   "name": "python",
   "nbconvert_exporter": "python",
   "pygments_lexer": "ipython3",
   "version": "3.7.6"
  }
 },
 "nbformat": 4,
 "nbformat_minor": 4
}
